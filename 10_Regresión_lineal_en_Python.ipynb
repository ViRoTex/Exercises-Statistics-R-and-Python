{
  "nbformat": 4,
  "nbformat_minor": 0,
  "metadata": {
    "colab": {
      "provenance": [],
      "authorship_tag": "ABX9TyOGhkb0Vc8xLR2H6wnqnSyu",
      "include_colab_link": true
    },
    "kernelspec": {
      "name": "python3",
      "display_name": "Python 3"
    },
    "language_info": {
      "name": "python"
    }
  },
  "cells": [
    {
      "cell_type": "markdown",
      "metadata": {
        "id": "view-in-github",
        "colab_type": "text"
      },
      "source": [
        "<a href=\"https://colab.research.google.com/github/ViRoTex/Exercises-Statistics-R-and-Python/blob/main/10_Regresi%C3%B3n_lineal_en_Python.ipynb\" target=\"_parent\"><img src=\"https://colab.research.google.com/assets/colab-badge.svg\" alt=\"Open In Colab\"/></a>"
      ]
    },
    {
      "cell_type": "markdown",
      "source": [
        "# Regresión lineal de la Diabetes en Python"
      ],
      "metadata": {
        "id": "1TaBpVQVJdne"
      }
    },
    {
      "cell_type": "code",
      "execution_count": null,
      "metadata": {
        "id": "i_K3Pv8HJX0O"
      },
      "outputs": [],
      "source": [
        "import matplotlib.pyplot as plt\n",
        "import numpy as np\n",
        "from sklearn import datasets, linear_model\n",
        "from sklearn.metrics import mean_squared_error, r2_score"
      ]
    },
    {
      "cell_type": "code",
      "source": [
        "diabetes = datasets.load_diabetes()"
      ],
      "metadata": {
        "id": "UTIL5Oy5wUpa"
      },
      "execution_count": null,
      "outputs": []
    },
    {
      "cell_type": "code",
      "source": [
        "type(diabetes) # es un bunch, es decir, un aglomerado o empaquetamiento de datos de sklearn, hay que traducirlo "
      ],
      "metadata": {
        "colab": {
          "base_uri": "https://localhost:8080/"
        },
        "id": "diLGqY1WwfzN",
        "outputId": "6a06a010-3ebd-4eb8-9ff4-117dc859128a"
      },
      "execution_count": null,
      "outputs": [
        {
          "output_type": "execute_result",
          "data": {
            "text/plain": [
              "sklearn.utils.Bunch"
            ]
          },
          "metadata": {},
          "execution_count": 4
        }
      ]
    },
    {
      "cell_type": "code",
      "source": [
        "type(diabetes.data)"
      ],
      "metadata": {
        "colab": {
          "base_uri": "https://localhost:8080/"
        },
        "id": "9x6bgVWdwqZt",
        "outputId": "63b4f91d-5256-4611-c3f5-c64919d74575"
      },
      "execution_count": null,
      "outputs": [
        {
          "output_type": "execute_result",
          "data": {
            "text/plain": [
              "numpy.ndarray"
            ]
          },
          "metadata": {},
          "execution_count": 5
        }
      ]
    },
    {
      "cell_type": "code",
      "source": [
        "diabetes.data.shape "
      ],
      "metadata": {
        "colab": {
          "base_uri": "https://localhost:8080/"
        },
        "id": "AQsCRScKwzjh",
        "outputId": "a163eef0-8616-48aa-9cee-812f7116b17a"
      },
      "execution_count": null,
      "outputs": [
        {
          "output_type": "execute_result",
          "data": {
            "text/plain": [
              "(442, 10)"
            ]
          },
          "metadata": {},
          "execution_count": 6
        }
      ]
    },
    {
      "cell_type": "code",
      "source": [
        "# vamos a quedarnos con todas las filas de la segunda columna\n",
        "# ya que hasta ahora sólo hemos visto regresiones lineares simples, donde a partir de una x podemos predecir una y\n",
        "# nos da un array unidimensional con todas las x\n",
        "x = diabetes.data[:, np.newaxis, 2]\n",
        "x"
      ],
      "metadata": {
        "id": "FGE5YDCQw1zm"
      },
      "execution_count": null,
      "outputs": []
    },
    {
      "cell_type": "code",
      "source": [
        "# para los valores de las \"y\"\n",
        "y = diabetes.target"
      ],
      "metadata": {
        "id": "vuYbUwa93W1l"
      },
      "execution_count": null,
      "outputs": []
    },
    {
      "cell_type": "code",
      "source": [
        "# ahora que tenemos todos los datos podemos hacer la regresión\n",
        "mod = linear_model.LinearRegression()"
      ],
      "metadata": {
        "id": "JiinSSMN4aA9"
      },
      "execution_count": null,
      "outputs": []
    },
    {
      "cell_type": "code",
      "source": [
        "mod.fit(x, y) # ajuste de datos"
      ],
      "metadata": {
        "colab": {
          "base_uri": "https://localhost:8080/"
        },
        "id": "CcRU6NVj5vCV",
        "outputId": "ab5c63b4-b08a-4ad5-db92-ceca6cef72c4"
      },
      "execution_count": null,
      "outputs": [
        {
          "output_type": "execute_result",
          "data": {
            "text/plain": [
              "LinearRegression()"
            ]
          },
          "metadata": {},
          "execution_count": 23
        }
      ]
    },
    {
      "cell_type": "code",
      "source": [
        "mod.coef_ # coeficiente para las x"
      ],
      "metadata": {
        "colab": {
          "base_uri": "https://localhost:8080/"
        },
        "id": "wZKBTmDZ58Ku",
        "outputId": "11acb70e-5a9f-4f25-a239-6f6c1cd81cb8"
      },
      "execution_count": null,
      "outputs": [
        {
          "output_type": "execute_result",
          "data": {
            "text/plain": [
              "array([949.43526038])"
            ]
          },
          "metadata": {},
          "execution_count": 24
        }
      ]
    },
    {
      "cell_type": "code",
      "source": [
        "mod.intercept_ # ordenada en el origen, \"b\""
      ],
      "metadata": {
        "colab": {
          "base_uri": "https://localhost:8080/"
        },
        "id": "D-oPmhae7-jM",
        "outputId": "6bcdd464-696d-4390-94bb-7baaf7dfd6c7"
      },
      "execution_count": null,
      "outputs": [
        {
          "output_type": "execute_result",
          "data": {
            "text/plain": [
              "152.1334841628967"
            ]
          },
          "metadata": {},
          "execution_count": 25
        }
      ]
    },
    {
      "cell_type": "markdown",
      "source": [
        "$$\\tilde{y} = 949.43526038\\cdot x + 152.13348416289594 $$"
      ],
      "metadata": {
        "id": "NzVyNno18ukc"
      }
    },
    {
      "cell_type": "code",
      "source": [
        "# para mostrar la regresión junto a los puntos\n",
        "plt.scatter(x, y, color = 'black')\n",
        "plt.plot(x, mod.predict(x), color = 'blue', linewidth = 3)\n",
        "plt.show()"
      ],
      "metadata": {
        "colab": {
          "base_uri": "https://localhost:8080/",
          "height": 265
        },
        "id": "jgHOFx1z8kon",
        "outputId": "8536bc83-49f5-4bdf-d2a1-e23d47abb27d"
      },
      "execution_count": null,
      "outputs": [
        {
          "output_type": "display_data",
          "data": {
            "text/plain": [
              "<Figure size 432x288 with 1 Axes>"
            ],
            "image/png": "[encoded data removed]"
          },
          "metadata": {
            "needs_background": "light"
          }
        }
      ]
    },
    {
      "cell_type": "markdown",
      "source": [
        "$$MSE = \\frac{\\sum_{i = 1}^n(y_i - \\tilde{y_i})^2}{n}$$"
      ],
      "metadata": {
        "id": "0WgNO_N1_JwS"
      }
    },
    {
      "cell_type": "code",
      "source": [
        "mean_squared_error(y, mod.predict(x)) # es un error cuadrado medio muy alto"
      ],
      "metadata": {
        "colab": {
          "base_uri": "https://localhost:8080/"
        },
        "id": "EGe2Yj4__DRk",
        "outputId": "6b79063c-fbb8-408d-bd52-0f610dff8f67"
      },
      "execution_count": null,
      "outputs": [
        {
          "output_type": "execute_result",
          "data": {
            "text/plain": [
              "3890.4565854612724"
            ]
          },
          "metadata": {},
          "execution_count": 29
        }
      ]
    },
    {
      "cell_type": "code",
      "source": [
        "r2_score(y, mod.predict(x)) # r2 es muy bajo, por tanto, no es significativo, es un modelo no viable"
      ],
      "metadata": {
        "colab": {
          "base_uri": "https://localhost:8080/"
        },
        "id": "iRf7D-ao_gsJ",
        "outputId": "10e9717f-8815-4940-96b1-f961d0ab219a"
      },
      "execution_count": null,
      "outputs": [
        {
          "output_type": "execute_result",
          "data": {
            "text/plain": [
              "0.3439237602253803"
            ]
          },
          "metadata": {},
          "execution_count": 31
        }
      ]
    },
    {
      "cell_type": "markdown",
      "source": [
        "# Entrenamiento y validación de un modelo lineal"
      ],
      "metadata": {
        "id": "eD9ZD775Bd8E"
      }
    },
    {
      "cell_type": "code",
      "source": [
        "import matplotlib.pyplot as plt\n",
        "import numpy as np\n",
        "from sklearn import datasets, linear_model\n",
        "from sklearn.metrics import mean_squared_error, r2_score"
      ],
      "metadata": {
        "id": "Z4UnHRlBBGH5"
      },
      "execution_count": 3,
      "outputs": []
    },
    {
      "cell_type": "code",
      "source": [
        "diabetes = datasets.load_diabetes()"
      ],
      "metadata": {
        "id": "v33Kn11novYv"
      },
      "execution_count": 4,
      "outputs": []
    },
    {
      "cell_type": "code",
      "source": [
        "type(diabetes)"
      ],
      "metadata": {
        "colab": {
          "base_uri": "https://localhost:8080/"
        },
        "id": "Fyl7sSvAowAM",
        "outputId": "97526325-dfb4-4554-fafe-1007de13c894"
      },
      "execution_count": 5,
      "outputs": [
        {
          "output_type": "execute_result",
          "data": {
            "text/plain": [
              "sklearn.utils.Bunch"
            ]
          },
          "metadata": {},
          "execution_count": 5
        }
      ]
    },
    {
      "cell_type": "code",
      "source": [
        "type(diabetes.data)"
      ],
      "metadata": {
        "colab": {
          "base_uri": "https://localhost:8080/"
        },
        "id": "cThaX38vo3Xe",
        "outputId": "aa1ae032-0871-4a9f-cdfd-958ab75a5a8d"
      },
      "execution_count": 6,
      "outputs": [
        {
          "output_type": "execute_result",
          "data": {
            "text/plain": [
              "numpy.ndarray"
            ]
          },
          "metadata": {},
          "execution_count": 6
        }
      ]
    },
    {
      "cell_type": "code",
      "source": [
        "diabetes.data.shape "
      ],
      "metadata": {
        "colab": {
          "base_uri": "https://localhost:8080/"
        },
        "id": "Ni7vqxnho7Uq",
        "outputId": "991c5dcb-3c68-4233-f264-bc303518f35a"
      },
      "execution_count": 7,
      "outputs": [
        {
          "output_type": "execute_result",
          "data": {
            "text/plain": [
              "(442, 10)"
            ]
          },
          "metadata": {},
          "execution_count": 7
        }
      ]
    },
    {
      "cell_type": "code",
      "source": [
        "x = diabetes.data[:, np.newaxis, 2]\n",
        "x"
      ],
      "metadata": {
        "colab": {
          "base_uri": "https://localhost:8080/"
        },
        "id": "YJw7tp53o7cU",
        "outputId": "c5e1a608-87b8-49e3-d624-55e0ca1370d2"
      },
      "execution_count": 8,
      "outputs": [
        {
          "output_type": "execute_result",
          "data": {
            "text/plain": [
              "array([[ 0.06169621],\n",
              "       [-0.05147406],\n",
              "       [ 0.04445121],\n",
              "       [-0.01159501],\n",
              "       [-0.03638469],\n",
              "       [-0.04069594],\n",
              "       [-0.04716281],\n",
              "       [-0.00189471],\n",
              "       [ 0.06169621],\n",
              "       [ 0.03906215],\n",
              "       [-0.08380842],\n",
              "       [ 0.01750591],\n",
              "       [-0.02884001],\n",
              "       [-0.00189471],\n",
              "       [-0.02560657],\n",
              "       [-0.01806189],\n",
              "       [ 0.04229559],\n",
              "       [ 0.01211685],\n",
              "       [-0.0105172 ],\n",
              "       [-0.01806189],\n",
              "       [-0.05686312],\n",
              "       [-0.02237314],\n",
              "       [-0.00405033],\n",
              "       [ 0.06061839],\n",
              "       [ 0.03582872],\n",
              "       [-0.01267283],\n",
              "       [-0.07734155],\n",
              "       [ 0.05954058],\n",
              "       [-0.02129532],\n",
              "       [-0.00620595],\n",
              "       [ 0.04445121],\n",
              "       [-0.06548562],\n",
              "       [ 0.12528712],\n",
              "       [-0.05039625],\n",
              "       [-0.06332999],\n",
              "       [-0.03099563],\n",
              "       [ 0.02289497],\n",
              "       [ 0.01103904],\n",
              "       [ 0.07139652],\n",
              "       [ 0.01427248],\n",
              "       [-0.00836158],\n",
              "       [-0.06764124],\n",
              "       [-0.0105172 ],\n",
              "       [-0.02345095],\n",
              "       [ 0.06816308],\n",
              "       [-0.03530688],\n",
              "       [-0.01159501],\n",
              "       [-0.0730303 ],\n",
              "       [-0.04177375],\n",
              "       [ 0.01427248],\n",
              "       [-0.00728377],\n",
              "       [ 0.0164281 ],\n",
              "       [-0.00943939],\n",
              "       [-0.01590626],\n",
              "       [ 0.0250506 ],\n",
              "       [-0.04931844],\n",
              "       [ 0.04121778],\n",
              "       [-0.06332999],\n",
              "       [-0.06440781],\n",
              "       [-0.02560657],\n",
              "       [-0.00405033],\n",
              "       [ 0.00457217],\n",
              "       [-0.00728377],\n",
              "       [-0.0374625 ],\n",
              "       [-0.02560657],\n",
              "       [-0.02452876],\n",
              "       [-0.01806189],\n",
              "       [-0.01482845],\n",
              "       [-0.02991782],\n",
              "       [-0.046085  ],\n",
              "       [-0.06979687],\n",
              "       [ 0.03367309],\n",
              "       [-0.00405033],\n",
              "       [-0.02021751],\n",
              "       [ 0.00241654],\n",
              "       [-0.03099563],\n",
              "       [ 0.02828403],\n",
              "       [-0.03638469],\n",
              "       [-0.05794093],\n",
              "       [-0.0374625 ],\n",
              "       [ 0.01211685],\n",
              "       [-0.02237314],\n",
              "       [-0.03530688],\n",
              "       [ 0.00996123],\n",
              "       [-0.03961813],\n",
              "       [ 0.07139652],\n",
              "       [-0.07518593],\n",
              "       [-0.00620595],\n",
              "       [-0.04069594],\n",
              "       [-0.04824063],\n",
              "       [-0.02560657],\n",
              "       [ 0.0519959 ],\n",
              "       [ 0.00457217],\n",
              "       [-0.06440781],\n",
              "       [-0.01698407],\n",
              "       [-0.05794093],\n",
              "       [ 0.00996123],\n",
              "       [ 0.08864151],\n",
              "       [-0.00512814],\n",
              "       [-0.06440781],\n",
              "       [ 0.01750591],\n",
              "       [-0.04500719],\n",
              "       [ 0.02828403],\n",
              "       [ 0.04121778],\n",
              "       [ 0.06492964],\n",
              "       [-0.03207344],\n",
              "       [-0.07626374],\n",
              "       [ 0.04984027],\n",
              "       [ 0.04552903],\n",
              "       [-0.00943939],\n",
              "       [-0.03207344],\n",
              "       [ 0.00457217],\n",
              "       [ 0.02073935],\n",
              "       [ 0.01427248],\n",
              "       [ 0.11019775],\n",
              "       [ 0.00133873],\n",
              "       [ 0.05846277],\n",
              "       [-0.02129532],\n",
              "       [-0.0105172 ],\n",
              "       [-0.04716281],\n",
              "       [ 0.00457217],\n",
              "       [ 0.01750591],\n",
              "       [ 0.08109682],\n",
              "       [ 0.0347509 ],\n",
              "       [ 0.02397278],\n",
              "       [-0.00836158],\n",
              "       [-0.06117437],\n",
              "       [-0.00189471],\n",
              "       [-0.06225218],\n",
              "       [ 0.0164281 ],\n",
              "       [ 0.09618619],\n",
              "       [-0.06979687],\n",
              "       [-0.02129532],\n",
              "       [-0.05362969],\n",
              "       [ 0.0433734 ],\n",
              "       [ 0.05630715],\n",
              "       [-0.0816528 ],\n",
              "       [ 0.04984027],\n",
              "       [ 0.11127556],\n",
              "       [ 0.06169621],\n",
              "       [ 0.01427248],\n",
              "       [ 0.04768465],\n",
              "       [ 0.01211685],\n",
              "       [ 0.00564998],\n",
              "       [ 0.04660684],\n",
              "       [ 0.12852056],\n",
              "       [ 0.05954058],\n",
              "       [ 0.09295276],\n",
              "       [ 0.01535029],\n",
              "       [-0.00512814],\n",
              "       [ 0.0703187 ],\n",
              "       [-0.00405033],\n",
              "       [-0.00081689],\n",
              "       [-0.04392938],\n",
              "       [ 0.02073935],\n",
              "       [ 0.06061839],\n",
              "       [-0.0105172 ],\n",
              "       [-0.03315126],\n",
              "       [-0.06548562],\n",
              "       [ 0.0433734 ],\n",
              "       [-0.06225218],\n",
              "       [ 0.06385183],\n",
              "       [ 0.03043966],\n",
              "       [ 0.07247433],\n",
              "       [-0.0191397 ],\n",
              "       [-0.06656343],\n",
              "       [-0.06009656],\n",
              "       [ 0.06924089],\n",
              "       [ 0.05954058],\n",
              "       [-0.02668438],\n",
              "       [-0.02021751],\n",
              "       [-0.046085  ],\n",
              "       [ 0.07139652],\n",
              "       [-0.07949718],\n",
              "       [ 0.00996123],\n",
              "       [-0.03854032],\n",
              "       [ 0.01966154],\n",
              "       [ 0.02720622],\n",
              "       [-0.00836158],\n",
              "       [-0.01590626],\n",
              "       [ 0.00457217],\n",
              "       [-0.04285156],\n",
              "       [ 0.00564998],\n",
              "       [-0.03530688],\n",
              "       [ 0.02397278],\n",
              "       [-0.01806189],\n",
              "       [ 0.04229559],\n",
              "       [-0.0547075 ],\n",
              "       [-0.00297252],\n",
              "       [-0.06656343],\n",
              "       [-0.01267283],\n",
              "       [-0.04177375],\n",
              "       [-0.03099563],\n",
              "       [-0.00512814],\n",
              "       [-0.05901875],\n",
              "       [ 0.0250506 ],\n",
              "       [-0.046085  ],\n",
              "       [ 0.00349435],\n",
              "       [ 0.05415152],\n",
              "       [-0.04500719],\n",
              "       [-0.05794093],\n",
              "       [-0.05578531],\n",
              "       [ 0.00133873],\n",
              "       [ 0.03043966],\n",
              "       [ 0.00672779],\n",
              "       [ 0.04660684],\n",
              "       [ 0.02612841],\n",
              "       [ 0.04552903],\n",
              "       [ 0.04013997],\n",
              "       [-0.01806189],\n",
              "       [ 0.01427248],\n",
              "       [ 0.03690653],\n",
              "       [ 0.00349435],\n",
              "       [-0.07087468],\n",
              "       [-0.03315126],\n",
              "       [ 0.09403057],\n",
              "       [ 0.03582872],\n",
              "       [ 0.03151747],\n",
              "       [-0.06548562],\n",
              "       [-0.04177375],\n",
              "       [-0.03961813],\n",
              "       [-0.03854032],\n",
              "       [-0.02560657],\n",
              "       [-0.02345095],\n",
              "       [-0.06656343],\n",
              "       [ 0.03259528],\n",
              "       [-0.046085  ],\n",
              "       [-0.02991782],\n",
              "       [-0.01267283],\n",
              "       [-0.01590626],\n",
              "       [ 0.07139652],\n",
              "       [-0.03099563],\n",
              "       [ 0.00026092],\n",
              "       [ 0.03690653],\n",
              "       [ 0.03906215],\n",
              "       [-0.01482845],\n",
              "       [ 0.00672779],\n",
              "       [-0.06871905],\n",
              "       [-0.00943939],\n",
              "       [ 0.01966154],\n",
              "       [ 0.07462995],\n",
              "       [-0.00836158],\n",
              "       [-0.02345095],\n",
              "       [-0.046085  ],\n",
              "       [ 0.05415152],\n",
              "       [-0.03530688],\n",
              "       [-0.03207344],\n",
              "       [-0.0816528 ],\n",
              "       [ 0.04768465],\n",
              "       [ 0.06061839],\n",
              "       [ 0.05630715],\n",
              "       [ 0.09834182],\n",
              "       [ 0.05954058],\n",
              "       [ 0.03367309],\n",
              "       [ 0.05630715],\n",
              "       [-0.06548562],\n",
              "       [ 0.16085492],\n",
              "       [-0.05578531],\n",
              "       [-0.02452876],\n",
              "       [-0.03638469],\n",
              "       [-0.00836158],\n",
              "       [-0.04177375],\n",
              "       [ 0.12744274],\n",
              "       [-0.07734155],\n",
              "       [ 0.02828403],\n",
              "       [-0.02560657],\n",
              "       [-0.06225218],\n",
              "       [-0.00081689],\n",
              "       [ 0.08864151],\n",
              "       [-0.03207344],\n",
              "       [ 0.03043966],\n",
              "       [ 0.00888341],\n",
              "       [ 0.00672779],\n",
              "       [-0.02021751],\n",
              "       [-0.02452876],\n",
              "       [-0.01159501],\n",
              "       [ 0.02612841],\n",
              "       [-0.05901875],\n",
              "       [-0.03638469],\n",
              "       [-0.02452876],\n",
              "       [ 0.01858372],\n",
              "       [-0.0902753 ],\n",
              "       [-0.00512814],\n",
              "       [-0.05255187],\n",
              "       [-0.02237314],\n",
              "       [-0.02021751],\n",
              "       [-0.0547075 ],\n",
              "       [-0.00620595],\n",
              "       [-0.01698407],\n",
              "       [ 0.05522933],\n",
              "       [ 0.07678558],\n",
              "       [ 0.01858372],\n",
              "       [-0.02237314],\n",
              "       [ 0.09295276],\n",
              "       [-0.03099563],\n",
              "       [ 0.03906215],\n",
              "       [-0.06117437],\n",
              "       [-0.00836158],\n",
              "       [-0.0374625 ],\n",
              "       [-0.01375064],\n",
              "       [ 0.07355214],\n",
              "       [-0.02452876],\n",
              "       [ 0.03367309],\n",
              "       [ 0.0347509 ],\n",
              "       [-0.03854032],\n",
              "       [-0.03961813],\n",
              "       [-0.00189471],\n",
              "       [-0.03099563],\n",
              "       [-0.046085  ],\n",
              "       [ 0.00133873],\n",
              "       [ 0.06492964],\n",
              "       [ 0.04013997],\n",
              "       [-0.02345095],\n",
              "       [ 0.05307371],\n",
              "       [ 0.04013997],\n",
              "       [-0.02021751],\n",
              "       [ 0.01427248],\n",
              "       [-0.03422907],\n",
              "       [ 0.00672779],\n",
              "       [ 0.00457217],\n",
              "       [ 0.03043966],\n",
              "       [ 0.0519959 ],\n",
              "       [ 0.06169621],\n",
              "       [-0.00728377],\n",
              "       [ 0.00564998],\n",
              "       [ 0.05415152],\n",
              "       [-0.00836158],\n",
              "       [ 0.114509  ],\n",
              "       [ 0.06708527],\n",
              "       [-0.05578531],\n",
              "       [ 0.03043966],\n",
              "       [-0.02560657],\n",
              "       [ 0.10480869],\n",
              "       [-0.00620595],\n",
              "       [-0.04716281],\n",
              "       [-0.04824063],\n",
              "       [ 0.08540807],\n",
              "       [-0.01267283],\n",
              "       [-0.03315126],\n",
              "       [-0.00728377],\n",
              "       [-0.01375064],\n",
              "       [ 0.05954058],\n",
              "       [ 0.02181716],\n",
              "       [ 0.01858372],\n",
              "       [-0.01159501],\n",
              "       [-0.00297252],\n",
              "       [ 0.01750591],\n",
              "       [-0.02991782],\n",
              "       [-0.02021751],\n",
              "       [-0.05794093],\n",
              "       [ 0.06061839],\n",
              "       [-0.04069594],\n",
              "       [-0.07195249],\n",
              "       [-0.05578531],\n",
              "       [ 0.04552903],\n",
              "       [-0.00943939],\n",
              "       [-0.03315126],\n",
              "       [ 0.04984027],\n",
              "       [-0.08488624],\n",
              "       [ 0.00564998],\n",
              "       [ 0.02073935],\n",
              "       [-0.00728377],\n",
              "       [ 0.10480869],\n",
              "       [-0.02452876],\n",
              "       [-0.00620595],\n",
              "       [-0.03854032],\n",
              "       [ 0.13714305],\n",
              "       [ 0.17055523],\n",
              "       [ 0.00241654],\n",
              "       [ 0.03798434],\n",
              "       [-0.05794093],\n",
              "       [-0.00943939],\n",
              "       [-0.02345095],\n",
              "       [-0.0105172 ],\n",
              "       [-0.03422907],\n",
              "       [-0.00297252],\n",
              "       [ 0.06816308],\n",
              "       [ 0.00996123],\n",
              "       [ 0.00241654],\n",
              "       [-0.03854032],\n",
              "       [ 0.02612841],\n",
              "       [-0.08919748],\n",
              "       [ 0.06061839],\n",
              "       [-0.02884001],\n",
              "       [-0.02991782],\n",
              "       [-0.0191397 ],\n",
              "       [-0.04069594],\n",
              "       [ 0.01535029],\n",
              "       [-0.02452876],\n",
              "       [ 0.00133873],\n",
              "       [ 0.06924089],\n",
              "       [-0.06979687],\n",
              "       [-0.02991782],\n",
              "       [-0.046085  ],\n",
              "       [ 0.01858372],\n",
              "       [ 0.00133873],\n",
              "       [-0.03099563],\n",
              "       [-0.00405033],\n",
              "       [ 0.01535029],\n",
              "       [ 0.02289497],\n",
              "       [ 0.04552903],\n",
              "       [-0.04500719],\n",
              "       [-0.03315126],\n",
              "       [ 0.097264  ],\n",
              "       [ 0.05415152],\n",
              "       [ 0.12313149],\n",
              "       [-0.08057499],\n",
              "       [ 0.09295276],\n",
              "       [-0.05039625],\n",
              "       [-0.01159501],\n",
              "       [-0.0277622 ],\n",
              "       [ 0.05846277],\n",
              "       [ 0.08540807],\n",
              "       [-0.00081689],\n",
              "       [ 0.00672779],\n",
              "       [ 0.00888341],\n",
              "       [ 0.08001901],\n",
              "       [ 0.07139652],\n",
              "       [-0.02452876],\n",
              "       [-0.0547075 ],\n",
              "       [-0.03638469],\n",
              "       [ 0.0164281 ],\n",
              "       [ 0.07786339],\n",
              "       [-0.03961813],\n",
              "       [ 0.01103904],\n",
              "       [-0.04069594],\n",
              "       [-0.03422907],\n",
              "       [ 0.00564998],\n",
              "       [ 0.08864151],\n",
              "       [-0.03315126],\n",
              "       [-0.05686312],\n",
              "       [-0.03099563],\n",
              "       [ 0.05522933],\n",
              "       [-0.06009656],\n",
              "       [ 0.00133873],\n",
              "       [-0.02345095],\n",
              "       [-0.07410811],\n",
              "       [ 0.01966154],\n",
              "       [-0.01590626],\n",
              "       [-0.01590626],\n",
              "       [ 0.03906215],\n",
              "       [-0.0730303 ]])"
            ]
          },
          "metadata": {},
          "execution_count": 8
        }
      ]
    },
    {
      "cell_type": "code",
      "source": [
        "# para los valores de las \"y\"\n",
        "y = diabetes.target"
      ],
      "metadata": {
        "id": "KpIDw1rSpBXT"
      },
      "execution_count": 9,
      "outputs": []
    },
    {
      "cell_type": "markdown",
      "source": [
        "### esta es la parte que cambia, dónde dividimos los datos de x e y, una parte para entrenar y otra para testear, normalmente 20%:80% respectivamente, o bien, 25%:75%\n"
      ],
      "metadata": {
        "id": "Q2qAx3LJpF1I"
      }
    },
    {
      "cell_type": "code",
      "source": [
        "x_train = x[:-60] # para entrenar vamos a coger las últimas 60 filas, más o menos un 20%\n",
        "x_test = x[-60:] # para testear el resto\n",
        "y_train = y[:-60]\n",
        "y_test = y[-60:]"
      ],
      "metadata": {
        "id": "OWdFxZR-pBm8"
      },
      "execution_count": 10,
      "outputs": []
    },
    {
      "cell_type": "code",
      "source": [
        "# ahora que tenemos todos los datos podemos hacer la regresión\n",
        "mod = linear_model.LinearRegression()"
      ],
      "metadata": {
        "id": "lL710Yv0pBs-"
      },
      "execution_count": 11,
      "outputs": []
    },
    {
      "cell_type": "code",
      "source": [
        "mod.fit(x_train, y_train)"
      ],
      "metadata": {
        "colab": {
          "base_uri": "https://localhost:8080/"
        },
        "id": "UadxQ6kluCw6",
        "outputId": "e418e132-9f2a-45a3-e8b7-6bc4c1acda15"
      },
      "execution_count": 12,
      "outputs": [
        {
          "output_type": "execute_result",
          "data": {
            "text/plain": [
              "LinearRegression()"
            ]
          },
          "metadata": {},
          "execution_count": 12
        }
      ]
    },
    {
      "cell_type": "code",
      "source": [
        "mod.coef_"
      ],
      "metadata": {
        "colab": {
          "base_uri": "https://localhost:8080/"
        },
        "id": "YiIYrmWWuC0T",
        "outputId": "d4d960c4-e44e-4623-fae4-c3547556381f"
      },
      "execution_count": 13,
      "outputs": [
        {
          "output_type": "execute_result",
          "data": {
            "text/plain": [
              "array([940.05574082])"
            ]
          },
          "metadata": {},
          "execution_count": 13
        }
      ]
    },
    {
      "cell_type": "code",
      "source": [
        "mod.intercept_"
      ],
      "metadata": {
        "colab": {
          "base_uri": "https://localhost:8080/"
        },
        "id": "1DHDeJQmuC3L",
        "outputId": "cfda272b-a6fc-4afd-c101-02a8e74b9cfd"
      },
      "execution_count": 14,
      "outputs": [
        {
          "output_type": "execute_result",
          "data": {
            "text/plain": [
              "152.80161883617347"
            ]
          },
          "metadata": {},
          "execution_count": 14
        }
      ]
    },
    {
      "cell_type": "markdown",
      "source": [
        "$$\\tilde{y} = 940.05574082\\cdot x + 152.80161883617347 $$"
      ],
      "metadata": {
        "id": "nradUVsiuWwI"
      }
    },
    {
      "cell_type": "code",
      "source": [
        "# para mostrar la regresión junto a los puntos\n",
        "plt.scatter(x_train, y_train, color = 'black')\n",
        "plt.plot(x, mod.predict(x), color = 'blue', linewidth = 3)\n",
        "plt.show() # sale la línea un poco más inclinada, inapreciable"
      ],
      "metadata": {
        "colab": {
          "base_uri": "https://localhost:8080/",
          "height": 265
        },
        "id": "pCrJrPrpueD4",
        "outputId": "ee8a6dfb-2245-4941-bbb9-94d65bc33de3"
      },
      "execution_count": 16,
      "outputs": [
        {
          "output_type": "display_data",
          "data": {
            "text/plain": [
              "<Figure size 432x288 with 1 Axes>"
            ],
            "image/png": "[encoded data removed]"
          },
          "metadata": {
            "needs_background": "light"
          }
        }
      ]
    },
    {
      "cell_type": "markdown",
      "source": [
        "$$MSE = \\frac{\\sum_{i = 1}^n(y_i - \\tilde{y_i})^2}{n}$$"
      ],
      "metadata": {
        "id": "nBSVegsevNYm"
      }
    },
    {
      "cell_type": "code",
      "source": [
        "mean_squared_error(y_train, mod.predict(x_train)) # da un valor ligeramente más alto"
      ],
      "metadata": {
        "colab": {
          "base_uri": "https://localhost:8080/"
        },
        "id": "iKT6dly5vDqK",
        "outputId": "20596f61-72c9-4adf-bd01-2b1714ae0eb6"
      },
      "execution_count": 17,
      "outputs": [
        {
          "output_type": "execute_result",
          "data": {
            "text/plain": [
              "3954.0083497655905"
            ]
          },
          "metadata": {},
          "execution_count": 17
        }
      ]
    },
    {
      "cell_type": "code",
      "source": [
        "r2_score(y_train, mod.predict(x_train)) # da un valor ligeramente más bajo"
      ],
      "metadata": {
        "colab": {
          "base_uri": "https://localhost:8080/"
        },
        "id": "DzrkkV4yvULA",
        "outputId": "551f2be3-6e9c-4f77-8020-49a13d5a6580"
      },
      "execution_count": 19,
      "outputs": [
        {
          "output_type": "execute_result",
          "data": {
            "text/plain": [
              "0.3331463299382713"
            ]
          },
          "metadata": {},
          "execution_count": 19
        }
      ]
    },
    {
      "cell_type": "markdown",
      "source": [
        "## Testing\n",
        "### Ahora comenzaría la fase de testing, dónde se toma el conjunto de datos de test para ajustarlo en el modelo creado con los datos de entrenamiento y ver cómo le quedan los datos"
      ],
      "metadata": {
        "id": "dk12w1BJwxQX"
      }
    },
    {
      "cell_type": "code",
      "source": [
        "y_pred = mod.predict(x_test)"
      ],
      "metadata": {
        "id": "qdutQCZwvkYy"
      },
      "execution_count": 20,
      "outputs": []
    },
    {
      "cell_type": "code",
      "source": [
        "mean_squared_error(y_test, y_pred) # da un valor inferior al que daban los datos del modelo, por tanto, no existe overfitting"
      ],
      "metadata": {
        "colab": {
          "base_uri": "https://localhost:8080/"
        },
        "id": "K_3m1Bh8yXpJ",
        "outputId": "23b5772f-f4f3-4dd1-f965-db77ec5006b5"
      },
      "execution_count": 22,
      "outputs": [
        {
          "output_type": "execute_result",
          "data": {
            "text/plain": [
              "3490.5984515464324"
            ]
          },
          "metadata": {},
          "execution_count": 22
        }
      ]
    },
    {
      "cell_type": "code",
      "source": [
        "r2_score(y_test, y_pred)"
      ],
      "metadata": {
        "colab": {
          "base_uri": "https://localhost:8080/"
        },
        "id": "HLcrCQzSydaM",
        "outputId": "2629863a-1fb3-471b-d1ef-b1919a4c13f6"
      },
      "execution_count": 23,
      "outputs": [
        {
          "output_type": "execute_result",
          "data": {
            "text/plain": [
              "0.4103896998623372"
            ]
          },
          "metadata": {},
          "execution_count": 23
        }
      ]
    },
    {
      "cell_type": "code",
      "source": [
        "# vamos a ver los datos de entrenamiento con respecto con el modelo de validación\n",
        "plt.scatter(x_train, y_train, color ='black')\n",
        "plt.scatter(x_test, y_test, color = 'red')\n",
        "plt.plot(x_train, mod.predict(x_train), color='blue', linewidth = 3)\n",
        "plt.show()"
      ],
      "metadata": {
        "colab": {
          "base_uri": "https://localhost:8080/",
          "height": 265
        },
        "id": "N1zVYjmmytEW",
        "outputId": "dc3de817-7556-4513-d3ec-64c109d33edd"
      },
      "execution_count": 26,
      "outputs": [
        {
          "output_type": "display_data",
          "data": {
            "text/plain": [
              "<Figure size 432x288 with 1 Axes>"
            ],
            "image/png": "[encoded data removed]"
          },
          "metadata": {
            "needs_background": "light"
          }
        }
      ]
    },
    {
      "cell_type": "code",
      "source": [],
      "metadata": {
        "id": "22N-xt8rzQMF"
      },
      "execution_count": null,
      "outputs": []
    }
  ]
}