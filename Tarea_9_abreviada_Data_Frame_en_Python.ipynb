{
  "nbformat": 4,
  "nbformat_minor": 0,
  "metadata": {
    "colab": {
      "name": "Tarea 9. abreviada. Data Frame en Python.ipynb",
      "provenance": [],
      "authorship_tag": "ABX9TyML/NhORNNrb12wzb8qHOUe",
      "include_colab_link": true
    },
    "kernelspec": {
      "name": "python3",
      "display_name": "Python 3"
    },
    "language_info": {
      "name": "python"
    }
  },
  "cells": [
    {
      "cell_type": "markdown",
      "metadata": {
        "id": "view-in-github",
        "colab_type": "text"
      },
      "source": [
        "<a href=\"https://colab.research.google.com/github/ViRoTex/Exercises-Statistics-R-and-Python/blob/main/Tarea_9_abreviada_Data_Frame_en_Python.ipynb\" target=\"_parent\"><img src=\"https://colab.research.google.com/assets/colab-badge.svg\" alt=\"Open In Colab\"/></a>"
      ]
    },
    {
      "cell_type": "code",
      "execution_count": 9,
      "metadata": {
        "id": "fVyzEJIqOQMU"
      },
      "outputs": [],
      "source": [
        "import numpy as np\n",
        "import pandas as pd"
      ]
    },
    {
      "cell_type": "code",
      "source": [
        "df = pd.read_csv(\"/content/run.csv\")\n",
        "df"
      ],
      "metadata": {
        "colab": {
          "base_uri": "https://localhost:8080/",
          "height": 423
        },
        "id": "_wBwSFjBOZcf",
        "outputId": "e0c79e31-b05c-4c84-9070-498473c0882f"
      },
      "execution_count": 10,
      "outputs": [
        {
          "output_type": "execute_result",
          "data": {
            "text/plain": [
              "    Unnamed: 0  pulso.antes  pulso.despues hace.deporte fuma genero  altura  \\\n",
              "0            1           48             54           no   si      H    68.0   \n",
              "1            2           54             56           no   si      H    69.0   \n",
              "2            3           54             50           no   no      H    69.0   \n",
              "3            4           58             70           si   no      H    72.0   \n",
              "4            5           58             58           no   no      H    66.0   \n",
              "..         ...          ...            ...          ...  ...    ...     ...   \n",
              "87          88           92             94           no   si      H    69.0   \n",
              "88          89           94             92           no   si      M    62.0   \n",
              "89          90           96            140           si   no      M    61.0   \n",
              "90          91           96            116           si   no      M    68.0   \n",
              "91          92          100            115           si   si      M    63.0   \n",
              "\n",
              "    peso tipo.actividad  \n",
              "0    150           nula  \n",
              "1    145       moderada  \n",
              "2    160       moderada  \n",
              "3    145       moderada  \n",
              "4    135        intensa  \n",
              "..   ...            ...  \n",
              "87   150       moderada  \n",
              "88   131       moderada  \n",
              "89   140       moderada  \n",
              "90   116       moderada  \n",
              "91   121       moderada  \n",
              "\n",
              "[92 rows x 9 columns]"
            ],
            "text/html": [
              "\n",
              "  <div id=\"df-a881259e-c8df-4004-a282-5db664890e83\">\n",
              "    <div class=\"colab-df-container\">\n",
              "      <div>\n",
              "<style scoped>\n",
              "    .dataframe tbody tr th:only-of-type {\n",
              "        vertical-align: middle;\n",
              "    }\n",
              "\n",
              "    .dataframe tbody tr th {\n",
              "        vertical-align: top;\n",
              "    }\n",
              "\n",
              "    .dataframe thead th {\n",
              "        text-align: right;\n",
              "    }\n",
              "</style>\n",
              "<table border=\"1\" class=\"dataframe\">\n",
              "  <thead>\n",
              "    <tr style=\"text-align: right;\">\n",
              "      <th></th>\n",
              "      <th>Unnamed: 0</th>\n",
              "      <th>pulso.antes</th>\n",
              "      <th>pulso.despues</th>\n",
              "      <th>hace.deporte</th>\n",
              "      <th>fuma</th>\n",
              "      <th>genero</th>\n",
              "      <th>altura</th>\n",
              "      <th>peso</th>\n",
              "      <th>tipo.actividad</th>\n",
              "    </tr>\n",
              "  </thead>\n",
              "  <tbody>\n",
              "    <tr>\n",
              "      <th>0</th>\n",
              "      <td>1</td>\n",
              "      <td>48</td>\n",
              "      <td>54</td>\n",
              "      <td>no</td>\n",
              "      <td>si</td>\n",
              "      <td>H</td>\n",
              "      <td>68.0</td>\n",
              "      <td>150</td>\n",
              "      <td>nula</td>\n",
              "    </tr>\n",
              "    <tr>\n",
              "      <th>1</th>\n",
              "      <td>2</td>\n",
              "      <td>54</td>\n",
              "      <td>56</td>\n",
              "      <td>no</td>\n",
              "      <td>si</td>\n",
              "      <td>H</td>\n",
              "      <td>69.0</td>\n",
              "      <td>145</td>\n",
              "      <td>moderada</td>\n",
              "    </tr>\n",
              "    <tr>\n",
              "      <th>2</th>\n",
              "      <td>3</td>\n",
              "      <td>54</td>\n",
              "      <td>50</td>\n",
              "      <td>no</td>\n",
              "      <td>no</td>\n",
              "      <td>H</td>\n",
              "      <td>69.0</td>\n",
              "      <td>160</td>\n",
              "      <td>moderada</td>\n",
              "    </tr>\n",
              "    <tr>\n",
              "      <th>3</th>\n",
              "      <td>4</td>\n",
              "      <td>58</td>\n",
              "      <td>70</td>\n",
              "      <td>si</td>\n",
              "      <td>no</td>\n",
              "      <td>H</td>\n",
              "      <td>72.0</td>\n",
              "      <td>145</td>\n",
              "      <td>moderada</td>\n",
              "    </tr>\n",
              "    <tr>\n",
              "      <th>4</th>\n",
              "      <td>5</td>\n",
              "      <td>58</td>\n",
              "      <td>58</td>\n",
              "      <td>no</td>\n",
              "      <td>no</td>\n",
              "      <td>H</td>\n",
              "      <td>66.0</td>\n",
              "      <td>135</td>\n",
              "      <td>intensa</td>\n",
              "    </tr>\n",
              "    <tr>\n",
              "      <th>...</th>\n",
              "      <td>...</td>\n",
              "      <td>...</td>\n",
              "      <td>...</td>\n",
              "      <td>...</td>\n",
              "      <td>...</td>\n",
              "      <td>...</td>\n",
              "      <td>...</td>\n",
              "      <td>...</td>\n",
              "      <td>...</td>\n",
              "    </tr>\n",
              "    <tr>\n",
              "      <th>87</th>\n",
              "      <td>88</td>\n",
              "      <td>92</td>\n",
              "      <td>94</td>\n",
              "      <td>no</td>\n",
              "      <td>si</td>\n",
              "      <td>H</td>\n",
              "      <td>69.0</td>\n",
              "      <td>150</td>\n",
              "      <td>moderada</td>\n",
              "    </tr>\n",
              "    <tr>\n",
              "      <th>88</th>\n",
              "      <td>89</td>\n",
              "      <td>94</td>\n",
              "      <td>92</td>\n",
              "      <td>no</td>\n",
              "      <td>si</td>\n",
              "      <td>M</td>\n",
              "      <td>62.0</td>\n",
              "      <td>131</td>\n",
              "      <td>moderada</td>\n",
              "    </tr>\n",
              "    <tr>\n",
              "      <th>89</th>\n",
              "      <td>90</td>\n",
              "      <td>96</td>\n",
              "      <td>140</td>\n",
              "      <td>si</td>\n",
              "      <td>no</td>\n",
              "      <td>M</td>\n",
              "      <td>61.0</td>\n",
              "      <td>140</td>\n",
              "      <td>moderada</td>\n",
              "    </tr>\n",
              "    <tr>\n",
              "      <th>90</th>\n",
              "      <td>91</td>\n",
              "      <td>96</td>\n",
              "      <td>116</td>\n",
              "      <td>si</td>\n",
              "      <td>no</td>\n",
              "      <td>M</td>\n",
              "      <td>68.0</td>\n",
              "      <td>116</td>\n",
              "      <td>moderada</td>\n",
              "    </tr>\n",
              "    <tr>\n",
              "      <th>91</th>\n",
              "      <td>92</td>\n",
              "      <td>100</td>\n",
              "      <td>115</td>\n",
              "      <td>si</td>\n",
              "      <td>si</td>\n",
              "      <td>M</td>\n",
              "      <td>63.0</td>\n",
              "      <td>121</td>\n",
              "      <td>moderada</td>\n",
              "    </tr>\n",
              "  </tbody>\n",
              "</table>\n",
              "<p>92 rows × 9 columns</p>\n",
              "</div>\n",
              "      <button class=\"colab-df-convert\" onclick=\"convertToInteractive('df-a881259e-c8df-4004-a282-5db664890e83')\"\n",
              "              title=\"Convert this dataframe to an interactive table.\"\n",
              "              style=\"display:none;\">\n",
              "        \n",
              "  <svg xmlns=\"http://www.w3.org/2000/svg\" height=\"24px\"viewBox=\"0 0 24 24\"\n",
              "       width=\"24px\">\n",
              "    <path d=\"M0 0h24v24H0V0z\" fill=\"none\"/>\n",
              "    <path d=\"M18.56 5.44l.94 2.06.94-2.06 2.06-.94-2.06-.94-.94-2.06-.94 2.06-2.06.94zm-11 1L8.5 8.5l.94-2.06 2.06-.94-2.06-.94L8.5 2.5l-.94 2.06-2.06.94zm10 10l.94 2.06.94-2.06 2.06-.94-2.06-.94-.94-2.06-.94 2.06-2.06.94z\"/><path d=\"M17.41 7.96l-1.37-1.37c-.4-.4-.92-.59-1.43-.59-.52 0-1.04.2-1.43.59L10.3 9.45l-7.72 7.72c-.78.78-.78 2.05 0 2.83L4 21.41c.39.39.9.59 1.41.59.51 0 1.02-.2 1.41-.59l7.78-7.78 2.81-2.81c.8-.78.8-2.07 0-2.86zM5.41 20L4 18.59l7.72-7.72 1.47 1.35L5.41 20z\"/>\n",
              "  </svg>\n",
              "      </button>\n",
              "      \n",
              "  <style>\n",
              "    .colab-df-container {\n",
              "      display:flex;\n",
              "      flex-wrap:wrap;\n",
              "      gap: 12px;\n",
              "    }\n",
              "\n",
              "    .colab-df-convert {\n",
              "      background-color: #E8F0FE;\n",
              "      border: none;\n",
              "      border-radius: 50%;\n",
              "      cursor: pointer;\n",
              "      display: none;\n",
              "      fill: #1967D2;\n",
              "      height: 32px;\n",
              "      padding: 0 0 0 0;\n",
              "      width: 32px;\n",
              "    }\n",
              "\n",
              "    .colab-df-convert:hover {\n",
              "      background-color: #E2EBFA;\n",
              "      box-shadow: 0px 1px 2px rgba(60, 64, 67, 0.3), 0px 1px 3px 1px rgba(60, 64, 67, 0.15);\n",
              "      fill: #174EA6;\n",
              "    }\n",
              "\n",
              "    [theme=dark] .colab-df-convert {\n",
              "      background-color: #3B4455;\n",
              "      fill: #D2E3FC;\n",
              "    }\n",
              "\n",
              "    [theme=dark] .colab-df-convert:hover {\n",
              "      background-color: #434B5C;\n",
              "      box-shadow: 0px 1px 3px 1px rgba(0, 0, 0, 0.15);\n",
              "      filter: drop-shadow(0px 1px 2px rgba(0, 0, 0, 0.3));\n",
              "      fill: #FFFFFF;\n",
              "    }\n",
              "  </style>\n",
              "\n",
              "      <script>\n",
              "        const buttonEl =\n",
              "          document.querySelector('#df-a881259e-c8df-4004-a282-5db664890e83 button.colab-df-convert');\n",
              "        buttonEl.style.display =\n",
              "          google.colab.kernel.accessAllowed ? 'block' : 'none';\n",
              "\n",
              "        async function convertToInteractive(key) {\n",
              "          const element = document.querySelector('#df-a881259e-c8df-4004-a282-5db664890e83');\n",
              "          const dataTable =\n",
              "            await google.colab.kernel.invokeFunction('convertToInteractive',\n",
              "                                                     [key], {});\n",
              "          if (!dataTable) return;\n",
              "\n",
              "          const docLinkHtml = 'Like what you see? Visit the ' +\n",
              "            '<a target=\"_blank\" href=https://colab.research.google.com/notebooks/data_table.ipynb>data table notebook</a>'\n",
              "            + ' to learn more about interactive tables.';\n",
              "          element.innerHTML = '';\n",
              "          dataTable['output_type'] = 'display_data';\n",
              "          await google.colab.output.renderOutput(dataTable, element);\n",
              "          const docLink = document.createElement('div');\n",
              "          docLink.innerHTML = docLinkHtml;\n",
              "          element.appendChild(docLink);\n",
              "        }\n",
              "      </script>\n",
              "    </div>\n",
              "  </div>\n",
              "  "
            ]
          },
          "metadata": {},
          "execution_count": 10
        }
      ]
    },
    {
      "cell_type": "code",
      "source": [
        "df[\"genero\"].value_counts()"
      ],
      "metadata": {
        "colab": {
          "base_uri": "https://localhost:8080/"
        },
        "id": "eQGdssV7OcFy",
        "outputId": "a4e1c4f3-8a39-4d32-a204-baf274fdfcfe"
      },
      "execution_count": 11,
      "outputs": [
        {
          "output_type": "execute_result",
          "data": {
            "text/plain": [
              "H    57\n",
              "M    35\n",
              "Name: genero, dtype: int64"
            ]
          },
          "metadata": {},
          "execution_count": 11
        }
      ]
    },
    {
      "cell_type": "markdown",
      "source": [
        "# Pregunta 3\n",
        "Calcula el porcentaje medio de variación del pulso por minuto entre antes y después de hacer ejercicio y\n",
        "compara el valor de los que hacen ejercicio habitualmente y los que no. ¿Observas mucha diferencia?"
      ],
      "metadata": {
        "id": "V5MXt8X_Oiyp"
      }
    },
    {
      "cell_type": "code",
      "source": [
        "df[\"PMV\"] = (df[\"pulso.despues\"] - df[\"pulso.antes\"]) / df[\"pulso.antes\"]\n",
        "df.groupby(\"hace.deporte\")[\"PMV\"].mean()"
      ],
      "metadata": {
        "colab": {
          "base_uri": "https://localhost:8080/"
        },
        "id": "dwmw3ZN9OhUC",
        "outputId": "7aabc105-ad8a-477d-dac2-526b8596419d"
      },
      "execution_count": 12,
      "outputs": [
        {
          "output_type": "execute_result",
          "data": {
            "text/plain": [
              "hace.deporte\n",
              "no    0.002095\n",
              "si    0.262154\n",
              "Name: PMV, dtype: float64"
            ]
          },
          "metadata": {},
          "execution_count": 12
        }
      ]
    },
    {
      "cell_type": "markdown",
      "source": [
        "# Pregunta 4\n",
        "Calcula el porcentaje medio de variación del pulso por minuto entre antes y después de hacer ejercicio para\n",
        "los estudiantes que hacen ejercicio habitualmente y compara el valor de los hombres con el de las mujeres.\n",
        "¿Observas mucha diferencia?"
      ],
      "metadata": {
        "id": "XDZmjhFNOwL5"
      }
    },
    {
      "cell_type": "code",
      "source": [
        "df[df[\"hace.deporte\"] == \"si\"].groupby(\"genero\")[\"PMV\"].mean()"
      ],
      "metadata": {
        "colab": {
          "base_uri": "https://localhost:8080/"
        },
        "id": "PE4JEqQGOxZh",
        "outputId": "93056f13-089a-44a8-9155-cd3de7fc5093"
      },
      "execution_count": 13,
      "outputs": [
        {
          "output_type": "execute_result",
          "data": {
            "text/plain": [
              "genero\n",
              "H    0.191769\n",
              "M    0.415722\n",
              "Name: PMV, dtype: float64"
            ]
          },
          "metadata": {},
          "execution_count": 13
        }
      ]
    },
    {
      "cell_type": "markdown",
      "source": [
        "# Pregunta 5\n",
        "Calcula el porcentaje medio de variación del pulso por minuto entre antes y después de hacer ejercicio para los\n",
        "estudiantes que no hacen ejercicio habitualmente y compara el valor de los fumadores con los no fumadores.\n",
        "¿Observas mucha diferencia?"
      ],
      "metadata": {
        "id": "3ZJg0rnAh2Ee"
      }
    },
    {
      "cell_type": "code",
      "source": [
        "df[df[\"hace.deporte\"] == \"no\"].groupby(\"fuma\")[\"PMV\"].mean()"
      ],
      "metadata": {
        "colab": {
          "base_uri": "https://localhost:8080/"
        },
        "id": "PNbSonjFh2er",
        "outputId": "45dc2212-df31-4b49-eae5-5158b8a0a0fe"
      },
      "execution_count": 14,
      "outputs": [
        {
          "output_type": "execute_result",
          "data": {
            "text/plain": [
              "fuma\n",
              "no   -0.000648\n",
              "si    0.009122\n",
              "Name: PMV, dtype: float64"
            ]
          },
          "metadata": {},
          "execution_count": 14
        }
      ]
    },
    {
      "cell_type": "markdown",
      "source": [
        "# Pregunta 6\n",
        "Calcula el porcentaje medio de variación del pulso por minuto entre antes y después de hacer ejercicio de\n",
        "todos los estudiantes según el tipo de actividad física que realizan. ¿Observas alguna diferencia?"
      ],
      "metadata": {
        "id": "creoUpHvh9_9"
      }
    },
    {
      "cell_type": "code",
      "source": [
        "df.groupby(\"tipo.actividad\")[\"PMV\"].mean()"
      ],
      "metadata": {
        "colab": {
          "base_uri": "https://localhost:8080/"
        },
        "id": "wIModOygiCvl",
        "outputId": "bed0ece4-8017-4180-bef6-cad05c2e303e"
      },
      "execution_count": 15,
      "outputs": [
        {
          "output_type": "execute_result",
          "data": {
            "text/plain": [
              "tipo.actividad\n",
              "intensa     0.013475\n",
              "moderada    0.140157\n",
              "nula        0.125000\n",
              "suave       0.037472\n",
              "Name: PMV, dtype: float64"
            ]
          },
          "metadata": {},
          "execution_count": 15
        }
      ]
    }
  ]
}