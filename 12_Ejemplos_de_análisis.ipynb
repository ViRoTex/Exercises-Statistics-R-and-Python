{
  "nbformat": 4,
  "nbformat_minor": 0,
  "metadata": {
    "colab": {
      "provenance": [],
      "authorship_tag": "ABX9TyP5EtbEWYnxkFrs6MAz1KS/",
      "include_colab_link": true
    },
    "kernelspec": {
      "name": "python3",
      "display_name": "Python 3"
    },
    "language_info": {
      "name": "python"
    }
  },
  "cells": [
    {
      "cell_type": "markdown",
      "metadata": {
        "id": "view-in-github",
        "colab_type": "text"
      },
      "source": [
        "<a href=\"https://colab.research.google.com/github/ViRoTex/Exercises-Statistics-R-and-Python/blob/main/12_Ejemplos_de_an%C3%A1lisis.ipynb\" target=\"_parent\"><img src=\"https://colab.research.google.com/assets/colab-badge.svg\" alt=\"Open In Colab\"/></a>"
      ]
    },
    {
      "cell_type": "markdown",
      "source": [
        "# Diamantes"
      ],
      "metadata": {
        "id": "W5sIqnwfhcq-"
      }
    },
    {
      "cell_type": "code",
      "source": [
        "!pip install ggplot"
      ],
      "metadata": {
        "id": "jaFrAhiu5I3G",
        "colab": {
          "base_uri": "https://localhost:8080/"
        },
        "outputId": "ae47e182-be96-4d23-e2f2-c9f6ffca66ef"
      },
      "execution_count": null,
      "outputs": [
        {
          "output_type": "stream",
          "name": "stdout",
          "text": [
            "Looking in indexes: https://pypi.org/simple, https://us-python.pkg.dev/colab-wheels/public/simple/\n",
            "\u001b[31mERROR: Could not find a version that satisfies the requirement ggplot2 (from versions: none)\u001b[0m\n",
            "\u001b[31mERROR: No matching distribution found for ggplot2\u001b[0m\n"
          ]
        }
      ]
    },
    {
      "cell_type": "code",
      "execution_count": null,
      "metadata": {
        "colab": {
          "base_uri": "https://localhost:8080/",
          "height": 374
        },
        "id": "luKFH0ylhEmT",
        "outputId": "d7dd49ef-c20a-4259-b93e-29e6c66cca09"
      },
      "outputs": [
        {
          "output_type": "error",
          "ename": "ModuleNotFoundError",
          "evalue": "ignored",
          "traceback": [
            "\u001b[0;31m---------------------------------------------------------------------------\u001b[0m",
            "\u001b[0;31mModuleNotFoundError\u001b[0m                       Traceback (most recent call last)",
            "\u001b[0;32m<ipython-input-8-22ce60ddd5ab>\u001b[0m in \u001b[0;36m<module>\u001b[0;34m\u001b[0m\n\u001b[1;32m      4\u001b[0m \u001b[0;34m\u001b[0m\u001b[0m\n\u001b[1;32m      5\u001b[0m \u001b[0;31m#from plotnine import ggplot2\u001b[0m\u001b[0;34m\u001b[0m\u001b[0;34m\u001b[0m\u001b[0;34m\u001b[0m\u001b[0m\n\u001b[0;32m----> 6\u001b[0;31m \u001b[0;32mfrom\u001b[0m \u001b[0mggplot2\u001b[0m \u001b[0;32mimport\u001b[0m \u001b[0mdiamond\u001b[0m\u001b[0;34m\u001b[0m\u001b[0;34m\u001b[0m\u001b[0m\n\u001b[0m\u001b[1;32m      7\u001b[0m \u001b[0;34m\u001b[0m\u001b[0m\n\u001b[1;32m      8\u001b[0m \u001b[0mmatplotlib\u001b[0m\u001b[0;34m.\u001b[0m\u001b[0mstyle\u001b[0m\u001b[0;34m.\u001b[0m\u001b[0muse\u001b[0m\u001b[0;34m(\u001b[0m\u001b[0;34m\"ggplot\"\u001b[0m\u001b[0;34m)\u001b[0m\u001b[0;34m\u001b[0m\u001b[0;34m\u001b[0m\u001b[0m\n",
            "\u001b[0;31mModuleNotFoundError\u001b[0m: No module named 'ggplot2'",
            "",
            "\u001b[0;31m---------------------------------------------------------------------------\u001b[0;32m\nNOTE: If your import is failing due to a missing package, you can\nmanually install dependencies using either !pip or !apt.\n\nTo view examples of installing some common dependencies, click the\n\"Open Examples\" button below.\n\u001b[0;31m---------------------------------------------------------------------------\u001b[0m\n"
          ],
          "errorDetails": {
            "actions": [
              {
                "action": "open_url",
                "actionText": "Open Examples",
                "url": "/notebooks/snippets/importing_libraries.ipynb"
              }
            ]
          }
        }
      ],
      "source": [
        "import numpy as np\n",
        "import pandas as pd\n",
        "import matplotlib\n",
        "\n",
        "from plotnine import ggplot\n",
        "from ggplot import diamond\n",
        "\n",
        "matplotlib.style.use(\"ggplot\")\n",
        "\n",
        "print(diamond.shape)\n",
        "print(diamond.head(10))"
      ]
    },
    {
      "cell_type": "markdown",
      "source": [
        "## Histograma"
      ],
      "metadata": {
        "id": "5md5uPL2ZHy4"
      }
    },
    {
      "cell_type": "code",
      "source": [
        "diamonds.hist(column = \"carat\", figsize = (8,8), color = \"blue\", bins = 50, range(0,3.5)\n",
        "matoplotlib.pyplot.show()"
      ],
      "metadata": {
        "id": "bprurI0NZG3n"
      },
      "execution_count": null,
      "outputs": []
    },
    {
      "cell_type": "markdown",
      "source": [
        "## Filtro de outliers"
      ],
      "metadata": {
        "id": "KqzdFKUYZOAx"
      }
    },
    {
      "cell_type": "code",
      "source": [
        "# vamos a aplicar un filtro para ver los diamantes de más de 3.5 kilates, en el gráfico son outliers, no aparecen visualmente.\n",
        "\n",
        "print(diamonds[diamonds[\"carat\">3.5]])\n",
        "\n",
        "# aparecen 9 diamantes con más de 3.5 kilates"
      ],
      "metadata": {
        "id": "pWusp0_TZLdV"
      },
      "execution_count": null,
      "outputs": []
    },
    {
      "cell_type": "markdown",
      "source": [
        "## Boxplot"
      ],
      "metadata": {
        "id": "gxEQ2I4MZTkm"
      }
    },
    {
      "cell_type": "code",
      "source": [
        "# vamos a ver si existe relación entre los kilates y la claridad del diamante\n",
        "diamonds.boxplot(column = \"carat\", by = \"clarity\", figsize =(8,8), color = \"blue\", bins = 50, range = (0,0.35))\n",
        "matplotlib.pyplot.show()"
      ],
      "metadata": {
        "id": "3n4rLdw3ZVJt"
      },
      "execution_count": null,
      "outputs": []
    },
    {
      "cell_type": "code",
      "source": [
        "# vamos a ver si existe relación entre el precio y la claridad del diamante\n",
        "diamonds.boxplot(column = \"price\",  by = \"clarity\", figsize =(8,8), color = \"blue\", bins = 50, range = (0,0.35))\n",
        "matplotlib.pyplot.show()"
      ],
      "metadata": {
        "id": "K-1dKS4cGKhV"
      },
      "execution_count": null,
      "outputs": []
    }
  ]
}