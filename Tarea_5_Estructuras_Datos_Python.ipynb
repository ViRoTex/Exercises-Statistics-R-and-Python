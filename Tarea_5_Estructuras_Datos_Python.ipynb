{
  "nbformat": 4,
  "nbformat_minor": 0,
  "metadata": {
    "colab": {
      "name": "Tarea 5. Estructuras Datos Python.ipynb",
      "provenance": [],
      "authorship_tag": "ABX9TyN84O6SKvcDUWiqP9yS3nGw",
      "include_colab_link": true
    },
    "kernelspec": {
      "name": "python3",
      "display_name": "Python 3"
    },
    "language_info": {
      "name": "python"
    }
  },
  "cells": [
    {
      "cell_type": "markdown",
      "metadata": {
        "id": "view-in-github",
        "colab_type": "text"
      },
      "source": [
        "<a href=\"https://colab.research.google.com/github/ViRoTex/Exercises-Statistics-R-and-Python/blob/main/Tarea_5_Estructuras_Datos_Python.ipynb\" target=\"_parent\"><img src=\"https://colab.research.google.com/assets/colab-badge.svg\" alt=\"Open In Colab\"/></a>"
      ]
    },
    {
      "cell_type": "markdown",
      "source": [
        "# Tarea 5. Estructura de datos en Python"
      ],
      "metadata": {
        "id": "FXPl2MGT4Mf2"
      }
    },
    {
      "cell_type": "code",
      "source": [
        "import math\n"
      ],
      "metadata": {
        "id": "tlbCj1WA4Vig"
      },
      "execution_count": null,
      "outputs": []
    },
    {
      "cell_type": "code",
      "source": [
        "import numpy as pn"
      ],
      "metadata": {
        "id": "fUAAj1QUlqB2"
      },
      "execution_count": null,
      "outputs": []
    },
    {
      "cell_type": "markdown",
      "source": [
        "## 1. Crea una función que reciba los tres coeficientes a, b y c para resolver una ecuación de segundo grado. Muestra la solución por pantalla y ayúdate de la librería math para acceder a la función raíz cuadrada."
      ],
      "metadata": {
        "id": "cDPOVR394SXZ"
      }
    },
    {
      "cell_type": "code",
      "execution_count": null,
      "metadata": {
        "id": "KDjh7-7O4GV_",
        "colab": {
          "base_uri": "https://localhost:8080/"
        },
        "outputId": "60e9ac65-be9e-4ea0-c7bb-170f9d17b48e"
      },
      "outputs": [
        {
          "output_type": "stream",
          "name": "stdout",
          "text": [
            "(1.0, -0.3333333333333333)\n"
          ]
        }
      ],
      "source": [
        "# Resuelve la ecuación ax^2+bx+c\n",
        "a = 3\n",
        "b = -2\n",
        "c = 1\n",
        "\n",
        "def f_2grado(a,b,c):\n",
        "  x1 = (-b + (math.sqrt(abs((b^2) - (4*a*c)))))/ (2*a)\n",
        "  x2 = (-b - (math.sqrt(abs((b^2) - (4*a*c)))))/ (2*a)\n",
        " \n",
        "  return(x1,x2)\n",
        "  \n",
        "print(f_2grado(a,b,c))"
      ]
    },
    {
      "cell_type": "markdown",
      "source": [
        "## 2. Crea una función que lea una frase de teclado y nos diga si es o no un palíndromo (frase que se lee igual de izquierda a derecha o al revés como por ejemplo \"La ruta nos aportó otro paso natural\")"
      ],
      "metadata": {
        "id": "TT-gw3fG4i2S"
      }
    },
    {
      "cell_type": "code",
      "source": [
        "x = str(input(\"Escribe una frase: \"))\n",
        "\n",
        "if x == x[::-1]:\n",
        "  print(\"Es un palíndromo\")\n",
        "else:\n",
        "  print(\"No es un palíndromo\")\n",
        "  \n"
      ],
      "metadata": {
        "id": "s1lF_cl44mm1",
        "colab": {
          "base_uri": "https://localhost:8080/"
        },
        "outputId": "156517e2-a15c-45ab-e27c-09cbc276a111"
      },
      "execution_count": null,
      "outputs": [
        {
          "output_type": "stream",
          "name": "stdout",
          "text": [
            "Escribe una frase: jok\n",
            "No es un palíndromo\n"
          ]
        }
      ]
    },
    {
      "cell_type": "code",
      "source": [
        "x = str(input(\"Escribe una frase: \"))\n",
        "\n",
        "def palindromo(x):\n",
        "  if x == x[::-1]:\n",
        "    return(\"Es un palíndromo\")\n",
        "\n",
        "  else:\n",
        "    return(\"No es un palíndromo\")\n",
        "\n",
        "print(palindromo(x))"
      ],
      "metadata": {
        "colab": {
          "base_uri": "https://localhost:8080/"
        },
        "id": "1m6TOKRK9V3k",
        "outputId": "5d2229a8-96cd-4467-9f94-411ec1f4735f"
      },
      "execution_count": null,
      "outputs": [
        {
          "output_type": "stream",
          "name": "stdout",
          "text": [
            "Escribe una frase: pop\n",
            "Es un palíndromo\n"
          ]
        }
      ]
    },
    {
      "cell_type": "markdown",
      "source": [
        "## 3. Crea un diccionario que tenga por claves los números del 1 al 10 y como valores sus raíces cuadradas"
      ],
      "metadata": {
        "id": "sJ06fujc4nOl"
      }
    },
    {
      "cell_type": "code",
      "source": [
        "dic1 = {1:(math.sqrt(1)), 2:(math.sqrt(2)), 3:(math.sqrt(3)), 4:(math.sqrt(4)), 5:(math.sqrt(5)), 6:(math.sqrt(6)), 7:(math.sqrt(7)), 8:(math.sqrt(8)), 9:(math.sqrt(9)), 10:(math.sqrt(10))}\n",
        "dic1"
      ],
      "metadata": {
        "colab": {
          "base_uri": "https://localhost:8080/"
        },
        "id": "58p1cb2k4r6l",
        "outputId": "797fec61-918c-4bcd-a5d0-4fa150c7aae8"
      },
      "execution_count": null,
      "outputs": [
        {
          "output_type": "execute_result",
          "data": {
            "text/plain": [
              "{1: 1.0,\n",
              " 2: 1.4142135623730951,\n",
              " 3: 1.7320508075688772,\n",
              " 4: 2.0,\n",
              " 5: 2.23606797749979,\n",
              " 6: 2.449489742783178,\n",
              " 7: 2.6457513110645907,\n",
              " 8: 2.8284271247461903,\n",
              " 9: 3.0,\n",
              " 10: 3.1622776601683795}"
            ]
          },
          "metadata": {},
          "execution_count": 37
        }
      ]
    },
    {
      "cell_type": "markdown",
      "source": [
        "## 4. Crea un diccionario que tenga como claves las letras del alfabeto castellano y como valores los símbolos del código morse (los tienes todos en la Wikipedia). A continuación crea una función que lea una frase del teclado y te la convierta a morse utilizando el diccionario anterior."
      ],
      "metadata": {
        "id": "BboaJdql4shC"
      }
    },
    {
      "cell_type": "code",
      "source": [
        "dic2 = {\"a\":\".-\", \"b\":\"-...\", \"c\":\"-.-.\", \"d\":\"-..\", \"e\":\".\", \"f\":\"..-.\", \"g\":\"--.\", \"h\":\"....\", \"i\":\"..\", \"j\":\".---\", \"k\":\"-.-\", \"l\":\".-..\", \"m\":\"--\", \"n\":\"-.\", \"ñ\":\"--.--\", \"o\":\"---\", \"p\":\".--.\", \"q\":\"--.-\", \"r\":\".-.\", \"s\":\"...\", \"t\":\"-\", \"u\":\"..-\", \"v\":\"...-\", \"w\":\".--\", \"x\":\"-..-\", \"y\":\"-.--\", \"z\":\"--.. \"}\n",
        "dic2"
      ],
      "metadata": {
        "colab": {
          "base_uri": "https://localhost:8080/"
        },
        "id": "ggUfT0LQ4wQ4",
        "outputId": "5507397c-150f-4e59-ee32-717f059e0324"
      },
      "execution_count": null,
      "outputs": [
        {
          "output_type": "execute_result",
          "data": {
            "text/plain": [
              "{'a': '.-',\n",
              " 'b': '-...',\n",
              " 'c': '-.-.',\n",
              " 'd': '-..',\n",
              " 'e': '.',\n",
              " 'f': '..-.',\n",
              " 'g': '--.',\n",
              " 'h': '....',\n",
              " 'i': '..',\n",
              " 'j': '.---',\n",
              " 'k': '-.-',\n",
              " 'l': '.-..',\n",
              " 'm': '--',\n",
              " 'n': '-.',\n",
              " 'o': '---',\n",
              " 'p': '.--.',\n",
              " 'q': '--.-',\n",
              " 'r': '.-.',\n",
              " 's': '...',\n",
              " 't': '-',\n",
              " 'u': '..-',\n",
              " 'v': '...-',\n",
              " 'w': '.--',\n",
              " 'x': '-..-',\n",
              " 'y': '-.--',\n",
              " 'z': '--.. ',\n",
              " 'ñ': '--.--'}"
            ]
          },
          "metadata": {},
          "execution_count": 56
        }
      ]
    },
    {
      "cell_type": "markdown",
      "source": [
        "## 5. Crea una función que dados dos diccionarios nos diga qué claves están presentes en ambos."
      ],
      "metadata": {
        "id": "uXcu47L74xOb"
      }
    },
    {
      "cell_type": "code",
      "source": [
        "A = {\"España\":\"Madrid\", \"Francia\":\"Paris\", \"Alemania\":\"Berlín\", \"Suiza\":\"Berna\"}\n",
        "\n",
        "B = {\"España\":\"47450795\",\"Austria\":\"8935112\", \"Países Bajos\":\"17302116\", \"Suiza\":\"8603899\"}\n",
        "\n",
        "\n",
        "def claves(A,B):\n",
        "  matchs = [ ]\n",
        "  for x in set(A.keys()) & set(B.keys()):\n",
        "    matchs.append(x)\n",
        "  return(matchs)\n",
        "\n",
        "claves(A,B)"
      ],
      "metadata": {
        "colab": {
          "base_uri": "https://localhost:8080/"
        },
        "id": "5Plegfc9dls3",
        "outputId": "61a9d9fa-2107-41d1-abf3-e6fb1126c201"
      },
      "execution_count": null,
      "outputs": [
        {
          "output_type": "execute_result",
          "data": {
            "text/plain": [
              "['España', 'Suiza']"
            ]
          },
          "metadata": {},
          "execution_count": 54
        }
      ]
    },
    {
      "cell_type": "markdown",
      "source": [
        "## 6. Crea una función que dado un número N nos diga si es primo o no (tiene que ir dividiendo por todos los números x comprendidos entre 2 y el número N - 1 y ver si la división de N / x tiene resto cero o no).\n",
        "\n"
      ],
      "metadata": {
        "id": "qkUcii8Y41XM"
      }
    },
    {
      "cell_type": "code",
      "source": [
        "N = int(input(\"Introduce un número: \"))\n",
        "\n",
        "def primo(N):\n",
        "  \n",
        "  for x in range(2,N-1):\n",
        "    N = N/x\n",
        "  if N==3 or N ==2:\n",
        "    return \"El número es primo\"\n",
        "  elif N%x != 0:\n",
        "    return \"El número es primo\"\n",
        "  else:\n",
        "    return \"El número no es primo\"\n",
        "\n",
        "print(primo(N))"
      ],
      "metadata": {
        "id": "hMbu26Rp48t4",
        "colab": {
          "base_uri": "https://localhost:8080/"
        },
        "outputId": "5ed2848b-673f-4c38-a5e1-e4171e2985fc"
      },
      "execution_count": null,
      "outputs": [
        {
          "output_type": "stream",
          "name": "stdout",
          "text": [
            "Introduce un número: 2\n",
            "El número es primo\n"
          ]
        }
      ]
    },
    {
      "cell_type": "markdown",
      "source": [
        "## 7. Investiga la documentación de la clase string y crea un método que lea una frase del teclado y escriba la primera letra de cada palabra en Mayúscula.\n",
        "\n"
      ],
      "metadata": {
        "id": "SNKCYIrM49W0"
      }
    },
    {
      "cell_type": "code",
      "source": [
        "x = str(input(\"Escribe una frase: \")) #poner 1º letra de cada palabra en mayúscula\n",
        "\n",
        "def modoTitulo(x):\n",
        "  x = x.title()\n",
        "  return(x)\n",
        "\n",
        "print(modoTitulo(x))"
      ],
      "metadata": {
        "colab": {
          "base_uri": "https://localhost:8080/"
        },
        "id": "7PV140NCDPKk",
        "outputId": "6525f26a-5873-4399-cadf-ca2443902150"
      },
      "execution_count": null,
      "outputs": [
        {
          "output_type": "stream",
          "name": "stdout",
          "text": [
            "Escribe una frase: voy a casa\n",
            "Voy A Casa\n"
          ]
        }
      ]
    },
    {
      "cell_type": "code",
      "source": [
        "x = str(input(\"Escribe una frase: \")) #otra forma de hacer 1ª letra en mayúscula\n",
        "list1=x.split(\" \") \n",
        "for i in range(len(list1)): \n",
        "   list1[i]=list1[i].capitalize() \n",
        "x =\" \".join(list1) \n",
        "print(x)"
      ],
      "metadata": {
        "colab": {
          "base_uri": "https://localhost:8080/"
        },
        "id": "oN2Xdtf8EA8R",
        "outputId": "2fbf0be3-9142-4238-b2c6-8fc696bab73c"
      },
      "execution_count": null,
      "outputs": [
        {
          "output_type": "stream",
          "name": "stdout",
          "text": [
            "Escribe una frase: hola que tal\n",
            "Hola Que Tal\n"
          ]
        }
      ]
    },
    {
      "cell_type": "code",
      "source": [
        "x = str(input(\"Escribe una frase: \")) #poner 1º letra de la frase en mayúscula\n",
        "\n",
        "def primeraMayuscula(x):\n",
        "  x = x.capitalize()\n",
        "  return(x)\n",
        "\n",
        "print(primeraMayuscula(x))"
      ],
      "metadata": {
        "id": "lNZwjvAg5CZ4",
        "colab": {
          "base_uri": "https://localhost:8080/"
        },
        "outputId": "111abf06-58b3-4cec-9afc-3d330618b4cb"
      },
      "execution_count": null,
      "outputs": [
        {
          "output_type": "stream",
          "name": "stdout",
          "text": [
            "Escribe una frase: hola que tal\n",
            "Hola que tal\n"
          ]
        }
      ]
    },
    {
      "cell_type": "code",
      "source": [
        "x = str(input(\"Escribe una frase: \")) #poner todas en mayúscula\n",
        "\n",
        "def todasMayuscula(x):\n",
        "  x = x.upper()\n",
        "  return(x)\n",
        "\n",
        "print(todasMayuscula(x))"
      ],
      "metadata": {
        "colab": {
          "base_uri": "https://localhost:8080/"
        },
        "id": "GDJNaa93C7X6",
        "outputId": "cdf6ec2b-e01d-4663-c7d4-d161940d09fa"
      },
      "execution_count": null,
      "outputs": [
        {
          "output_type": "stream",
          "name": "stdout",
          "text": [
            "Escribe una frase: hola\n",
            "HOLA\n"
          ]
        }
      ]
    },
    {
      "cell_type": "markdown",
      "source": [
        "## 8. Crea una función que calcule el máximo común divisor de dos números introducidos por el usuario por teclado.\n",
        "\n"
      ],
      "metadata": {
        "id": "mfjCJliD5DAy"
      }
    },
    {
      "cell_type": "code",
      "source": [
        "import math"
      ],
      "metadata": {
        "id": "Y4_xMyA8RAqk"
      },
      "execution_count": null,
      "outputs": []
    },
    {
      "cell_type": "code",
      "source": [
        "x = int(input(\"Introduce un primer número: \"))\n",
        "y = int(input(\"Introduce un segundo número: \"))\n",
        "\n",
        "def maxcomunmultiplo(x,y):\n",
        "  MCD = math.gcd(x,y)\n",
        "  return(MCD)\n",
        "\n",
        "print(maxcomunmultiplo(x,y))"
      ],
      "metadata": {
        "id": "vMSQdqsj5Gxw",
        "colab": {
          "base_uri": "https://localhost:8080/"
        },
        "outputId": "26543d4b-b545-4487-802b-038f883cf3d3"
      },
      "execution_count": null,
      "outputs": [
        {
          "output_type": "stream",
          "name": "stdout",
          "text": [
            "Introduce un primer número: 72\n",
            "Introduce un segundo número: 108\n",
            "36\n"
          ]
        }
      ]
    },
    {
      "cell_type": "markdown",
      "source": [
        "## 9. Investiga el Cifrado del César y crea una función que lo reproduzca en Python. Cada letra del mensaje original se desplaza tres posiciones en el alfabeto estándar. La A se convierte en la D, la B se convierte en la E, la C se convierte en la F... y cuando se acaba el alfabeto se le vuelve a dar la vuelta: la X se convierte en la A, la Y en la B y la X en la C. Los números no sufren ninguna modificación.\n",
        "\n"
      ],
      "metadata": {
        "id": "mX7Uf5kq5HSk"
      }
    },
    {
      "cell_type": "code",
      "source": [
        "# Otra forma, con diccionarios\n",
        "import string\n",
        "\n",
        "\n",
        "# Sabemos que abc es el abecedario normal\n",
        "# abcCesar es el abecedario encriptado, que nos sirve para cifrar y descrifrar el mensaje\n",
        "\n",
        "abc1 = string.ascii_uppercase\n",
        "abc2 = string.ascii_lowercase\n",
        "abc = abc1+abc2\n",
        "abcCesar = abc1[3:] + abc1[0:3]+abc2[3:] + abc2[0:3]\n",
        "\n",
        "print(abc)\n",
        "print(abcCesar)\n",
        "\n",
        "\n",
        "\n",
        "#convertimos en lista\n",
        "\n",
        "abcL = list(abc)\n",
        "abcCesarL = list(abcCesar)\n",
        "\n",
        "#convertimos en tupla\n",
        "\n",
        "abcT = tuple(abcL)\n",
        "abcCesarT = tuple(abcCesarL)\n",
        "\n",
        "# convertimos en diccionario\n",
        "\n",
        "dicc = { }\n",
        "contador = 0\n",
        "for letra in abcT: #recorre cada letra del abcT\n",
        "  # creamos un diccionario con letra como clave y abcCesarT como valor\n",
        "  # ponemos el contador para ir asociando cada letra desde la posición 0 del abc\n",
        "  dicc[letra] = abcCesarT[contador] \n",
        "  contador = contador +1\n",
        "print(dicc) #se puede eliminar este print, es sólo para comprobar\n",
        "\n",
        "\n",
        "original = str(input(\"Introduce el texto original a encriptar: \"))\n",
        "\n",
        "encriptado = \"\"\n",
        "for letra in original:\n",
        "\n",
        "  if letra in dicc:\n",
        "    encriptado += dicc[letra]\n",
        "    \n",
        "  else:\n",
        "    encriptado += letra\n",
        "    \n",
        "    \n",
        "print(encriptado)\n"
      ],
      "metadata": {
        "colab": {
          "base_uri": "https://localhost:8080/"
        },
        "id": "6sBVeHtVtN3p",
        "outputId": "ef07ccf9-f95a-4bd6-8874-4ac91adf39a8"
      },
      "execution_count": null,
      "outputs": [
        {
          "output_type": "stream",
          "name": "stdout",
          "text": [
            "ABCDEFGHIJKLMNOPQRSTUVWXYZabcdefghijklmnopqrstuvwxyz\n",
            "DEFGHIJKLMNOPQRSTUVWXYZABCdefghijklmnopqrstuvwxyzabc\n",
            "{'A': 'D', 'B': 'E', 'C': 'F', 'D': 'G', 'E': 'H', 'F': 'I', 'G': 'J', 'H': 'K', 'I': 'L', 'J': 'M', 'K': 'N', 'L': 'O', 'M': 'P', 'N': 'Q', 'O': 'R', 'P': 'S', 'Q': 'T', 'R': 'U', 'S': 'V', 'T': 'W', 'U': 'X', 'V': 'Y', 'W': 'Z', 'X': 'A', 'Y': 'B', 'Z': 'C', 'a': 'd', 'b': 'e', 'c': 'f', 'd': 'g', 'e': 'h', 'f': 'i', 'g': 'j', 'h': 'k', 'i': 'l', 'j': 'm', 'k': 'n', 'l': 'o', 'm': 'p', 'n': 'q', 'o': 'r', 'p': 's', 'q': 't', 'r': 'u', 's': 'v', 't': 'w', 'u': 'x', 'v': 'y', 'w': 'z', 'x': 'a', 'y': 'b', 'z': 'c'}\n",
            "Introduce el texto original a encriptar: hola que tal\n",
            "krod txh wdo\n"
          ]
        }
      ]
    },
    {
      "cell_type": "markdown",
      "source": [
        "## 10. Dado una lista de nombres de persona, escribe una función que los ordene de tres formas diferentes:\n",
        "\n",
        "## A. De forma alfabética\n",
        "\n",
        "## B. De forma alfabética invertida\n",
        "\n",
        "## C. De nombre más corto al más largo."
      ],
      "metadata": {
        "id": "I9wikpy85K9k"
      }
    },
    {
      "cell_type": "code",
      "source": [
        "L1 = ['Javier', 'Pablo', 'Ana', 'Lucía', 'David', 'Catalina']\n",
        "\n",
        "def orden(L1abc):\n",
        "  L1abc = sorted(L1)\n",
        "  print(L1abc)\n",
        "  L1abc.reverse()\n",
        "  print(L1abc)\n",
        "  L1abc.sort(key=len)\n",
        "  print(L1abc)\n",
        "orden(L1)\n",
        "  "
      ],
      "metadata": {
        "colab": {
          "base_uri": "https://localhost:8080/"
        },
        "id": "kO6eRZmJoUeX",
        "outputId": "940bad87-32ee-492f-8297-7456aa5b7dd1"
      },
      "execution_count": 2,
      "outputs": [
        {
          "output_type": "stream",
          "name": "stdout",
          "text": [
            "['Ana', 'Catalina', 'David', 'Javier', 'Lucía', 'Pablo']\n",
            "['Pablo', 'Lucía', 'Javier', 'David', 'Catalina', 'Ana']\n",
            "['Ana', 'Pablo', 'Lucía', 'David', 'Javier', 'Catalina']\n"
          ]
        }
      ]
    },
    {
      "cell_type": "code",
      "source": [
        "L1 = ['Javier', 'Pablo', 'Ana', 'Lucía', 'David', 'Catalina']\n",
        "L1"
      ],
      "metadata": {
        "colab": {
          "base_uri": "https://localhost:8080/"
        },
        "id": "_d3yqY7Y5NIr",
        "outputId": "5ca04926-85d2-40e8-ce2b-ecc4d497c087"
      },
      "execution_count": null,
      "outputs": [
        {
          "output_type": "execute_result",
          "data": {
            "text/plain": [
              "['Javier', 'Pablo', 'Ana', 'Lucía', 'David', 'Catalina']"
            ]
          },
          "metadata": {},
          "execution_count": 88
        }
      ]
    },
    {
      "cell_type": "code",
      "source": [
        "#L1abc = sorted(L1) # ordenados alfabéticamente\n",
        "#L1abc = L1.sort(L1, key = len, reverse = False)\n",
        "L1abc = sorted(L1)\n",
        "L1abc"
      ],
      "metadata": {
        "colab": {
          "base_uri": "https://localhost:8080/"
        },
        "id": "ioTrNjc1arAD",
        "outputId": "fa5b2f6e-c5ec-48a8-b807-74bcfaf1f188"
      },
      "execution_count": null,
      "outputs": [
        {
          "output_type": "execute_result",
          "data": {
            "text/plain": [
              "['Ana', 'Catalina', 'David', 'Javier', 'Lucía', 'Pablo']"
            ]
          },
          "metadata": {},
          "execution_count": 89
        }
      ]
    },
    {
      "cell_type": "code",
      "source": [
        "L1abc.reverse() # ordenados de la z a la a\n",
        "L1abc"
      ],
      "metadata": {
        "colab": {
          "base_uri": "https://localhost:8080/"
        },
        "id": "ilnWaTyCExhb",
        "outputId": "bdeddd62-c452-4549-82ae-938c0455db26"
      },
      "execution_count": null,
      "outputs": [
        {
          "output_type": "execute_result",
          "data": {
            "text/plain": [
              "['Pablo', 'Lucía', 'Javier', 'David', 'Catalina', 'Ana']"
            ]
          },
          "metadata": {},
          "execution_count": 90
        }
      ]
    },
    {
      "cell_type": "code",
      "source": [
        "L1.sort(key=len) # ordenados del más corto al más largo\n",
        "L1"
      ],
      "metadata": {
        "id": "fjONrsJNZsM-",
        "colab": {
          "base_uri": "https://localhost:8080/"
        },
        "outputId": "c2a3db02-d49e-4895-92f9-5af2a7af61b8"
      },
      "execution_count": 3,
      "outputs": [
        {
          "output_type": "execute_result",
          "data": {
            "text/plain": [
              "['Ana', 'Pablo', 'Lucía', 'David', 'Javier', 'Catalina']"
            ]
          },
          "metadata": {},
          "execution_count": 3
        }
      ]
    }
  ]
}