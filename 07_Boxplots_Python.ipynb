{
  "nbformat": 4,
  "nbformat_minor": 0,
  "metadata": {
    "colab": {
      "name": "07. Boxplots Python.ipynb",
      "provenance": [],
      "collapsed_sections": [],
      "authorship_tag": "ABX9TyNaIfYIWBmgo/i68cfepV2d",
      "include_colab_link": true
    },
    "kernelspec": {
      "name": "python3",
      "display_name": "Python 3"
    },
    "language_info": {
      "name": "python"
    }
  },
  "cells": [
    {
      "cell_type": "markdown",
      "metadata": {
        "id": "view-in-github",
        "colab_type": "text"
      },
      "source": [
        "<a href=\"https://colab.research.google.com/github/ViRoTex/Exercises-Statistics-R-and-Python/blob/main/07_Boxplots_Python.ipynb\" target=\"_parent\"><img src=\"https://colab.research.google.com/assets/colab-badge.svg\" alt=\"Open In Colab\"/></a>"
      ]
    },
    {
      "cell_type": "markdown",
      "source": [
        "# Boxplots o Diagrama de caja o bigotes. Datos cuantitativos."
      ],
      "metadata": {
        "id": "UoPdTx7xtCO_"
      }
    },
    {
      "cell_type": "code",
      "execution_count": 26,
      "metadata": {
        "id": "lbtREpd8s-7V"
      },
      "outputs": [],
      "source": [
        "import numpy as np\n",
        "import matplotlib.pyplot as plt"
      ]
    },
    {
      "cell_type": "code",
      "source": [
        "np.random.seed(19880519)"
      ],
      "metadata": {
        "id": "neeZJ_i6DLRi"
      },
      "execution_count": 27,
      "outputs": []
    },
    {
      "cell_type": "code",
      "source": [
        "dist1 = 100*np.random.rand(50) # números al azar entre 0 a 100\n",
        "dist2 = 50*np.ones(25) # lista de 25 veces el número 50\n",
        "dist3 = 100 + 100 * np.random.rand(10) # al azar del 100 al 200\n",
        "dist4 = -100 * np.random.rand(10) # al azar entre -100 al 0\n",
        "data = np.concatenate((dist1, dist2, dist3, dist4)) # concatenación de las 4 distribuciones"
      ],
      "metadata": {
        "id": "d8Ues-QDG9hU"
      },
      "execution_count": 28,
      "outputs": []
    },
    {
      "cell_type": "code",
      "source": [
        "fig1, ax1 = plt.subplots()\n",
        "ax1.set_title(\"Boxplot básico\")\n",
        "ax1.boxplot(data)"
      ],
      "metadata": {
        "colab": {
          "base_uri": "https://localhost:8080/",
          "height": 420
        },
        "id": "ndlYQoZBHtsE",
        "outputId": "b7db06c2-4040-4670-fa9b-40426d24e194"
      },
      "execution_count": 29,
      "outputs": [
        {
          "output_type": "execute_result",
          "data": {
            "text/plain": [
              "{'boxes': [<matplotlib.lines.Line2D at 0x7f9bafe0fad0>],\n",
              " 'caps': [<matplotlib.lines.Line2D at 0x7f9bafdab490>,\n",
              "  <matplotlib.lines.Line2D at 0x7f9bafdab9d0>],\n",
              " 'fliers': [<matplotlib.lines.Line2D at 0x7f9bafdb24d0>],\n",
              " 'means': [],\n",
              " 'medians': [<matplotlib.lines.Line2D at 0x7f9bafdabf10>],\n",
              " 'whiskers': [<matplotlib.lines.Line2D at 0x7f9bafda6910>,\n",
              "  <matplotlib.lines.Line2D at 0x7f9bafda6f10>]}"
            ]
          },
          "metadata": {},
          "execution_count": 29
        },
        {
          "output_type": "display_data",
          "data": {
            "text/plain": [
              "<Figure size 432x288 with 1 Axes>"
            ],
            "image/png": "[encoded data removed]"
          },
          "metadata": {
            "needs_background": "light"
          }
        }
      ]
    },
    {
      "cell_type": "code",
      "source": [
        "# Vamos a ver diferentes parámetros de los boxplots\n",
        "# las muescas se crean con notch\n",
        "fig2, ax2 = plt.subplots()\n",
        "ax2.set_title(\"Boxplot con muescas\")\n",
        "ax2.boxplot(data, notch = True)"
      ],
      "metadata": {
        "colab": {
          "base_uri": "https://localhost:8080/",
          "height": 420
        },
        "id": "ai2mVAFgH3ui",
        "outputId": "0957d36d-6e30-42d9-c3bf-6a602ee81e52"
      },
      "execution_count": 30,
      "outputs": [
        {
          "output_type": "execute_result",
          "data": {
            "text/plain": [
              "{'boxes': [<matplotlib.lines.Line2D at 0x7f9bafd8a110>],\n",
              " 'caps': [<matplotlib.lines.Line2D at 0x7f9bafd1d850>,\n",
              "  <matplotlib.lines.Line2D at 0x7f9bafd1dd90>],\n",
              " 'fliers': [<matplotlib.lines.Line2D at 0x7f9bafd25890>],\n",
              " 'means': [],\n",
              " 'medians': [<matplotlib.lines.Line2D at 0x7f9bafd25310>],\n",
              " 'whiskers': [<matplotlib.lines.Line2D at 0x7f9bafd97d10>,\n",
              "  <matplotlib.lines.Line2D at 0x7f9bafd1d310>]}"
            ]
          },
          "metadata": {},
          "execution_count": 30
        },
        {
          "output_type": "display_data",
          "data": {
            "text/plain": [
              "<Figure size 432x288 with 1 Axes>"
            ],
            "image/png": "[encoded data removed]"
          },
          "metadata": {
            "needs_background": "light"
          }
        }
      ]
    },
    {
      "cell_type": "code",
      "source": [
        "green_diamond = dict(markerfacecolor = \"g\", marker = \"D\")\n",
        "fig3, ax3 = plt.subplots()\n",
        "ax3.set_title(\"Boxplot con outliers personalizados\")\n",
        "ax3.boxplot(data, flierprops = green_diamond)"
      ],
      "metadata": {
        "colab": {
          "base_uri": "https://localhost:8080/",
          "height": 420
        },
        "id": "dM4l4S97J5PI",
        "outputId": "7b527890-5f21-406e-b8bc-0616be1ad3db"
      },
      "execution_count": 31,
      "outputs": [
        {
          "output_type": "execute_result",
          "data": {
            "text/plain": [
              "{'boxes': [<matplotlib.lines.Line2D at 0x7f9bafcfe290>],\n",
              " 'caps': [<matplotlib.lines.Line2D at 0x7f9bafd0eb50>,\n",
              "  <matplotlib.lines.Line2D at 0x7f9bafd170d0>],\n",
              " 'fliers': [<matplotlib.lines.Line2D at 0x7f9bafd17b90>],\n",
              " 'means': [],\n",
              " 'medians': [<matplotlib.lines.Line2D at 0x7f9bafd17610>],\n",
              " 'whiskers': [<matplotlib.lines.Line2D at 0x7f9bafd0e050>,\n",
              "  <matplotlib.lines.Line2D at 0x7f9bafd0e610>]}"
            ]
          },
          "metadata": {},
          "execution_count": 31
        },
        {
          "output_type": "display_data",
          "data": {
            "text/plain": [
              "<Figure size 432x288 with 1 Axes>"
            ],
            "image/png": "[encoded data removed]"
          },
          "metadata": {
            "needs_background": "light"
          }
        }
      ]
    },
    {
      "cell_type": "code",
      "source": [
        "fig4, ax4 = plt.subplots()\n",
        "ax4.set_title(\"Boxplot sin outliers\")\n",
        "ax4.boxplot(data, showfliers = False)"
      ],
      "metadata": {
        "colab": {
          "base_uri": "https://localhost:8080/",
          "height": 420
        },
        "id": "dirHmY6eLTMk",
        "outputId": "376e83d0-e973-4901-b4a0-b8b736acf0e1"
      },
      "execution_count": 32,
      "outputs": [
        {
          "output_type": "execute_result",
          "data": {
            "text/plain": [
              "{'boxes': [<matplotlib.lines.Line2D at 0x7f9bafc6f150>],\n",
              " 'caps': [<matplotlib.lines.Line2D at 0x7f9bafc80a10>,\n",
              "  <matplotlib.lines.Line2D at 0x7f9bafc80f50>],\n",
              " 'fliers': [],\n",
              " 'means': [],\n",
              " 'medians': [<matplotlib.lines.Line2D at 0x7f9bafc874d0>],\n",
              " 'whiskers': [<matplotlib.lines.Line2D at 0x7f9bafc78ed0>,\n",
              "  <matplotlib.lines.Line2D at 0x7f9bafc804d0>]}"
            ]
          },
          "metadata": {},
          "execution_count": 32
        },
        {
          "output_type": "display_data",
          "data": {
            "text/plain": [
              "<Figure size 432x288 with 1 Axes>"
            ],
            "image/png": "[encoded data removed]"
          },
          "metadata": {
            "needs_background": "light"
          }
        }
      ]
    },
    {
      "cell_type": "code",
      "source": [
        "red_square = dict(markerfacecolor = \"r\", marker = \"s\") \n",
        "fig5, ax5 = plt.subplots()\n",
        "ax5.set_title(\"Boxplot personalizado y en horizontal\")\n",
        "ax5.boxplot(data, vert = False, flierprops = red_square)"
      ],
      "metadata": {
        "colab": {
          "base_uri": "https://localhost:8080/",
          "height": 420
        },
        "id": "4ttQ_hwYLeGz",
        "outputId": "cee058a0-e88a-4546-b9fd-c94991f00a7c"
      },
      "execution_count": 33,
      "outputs": [
        {
          "output_type": "execute_result",
          "data": {
            "text/plain": [
              "{'boxes': [<matplotlib.lines.Line2D at 0x7f9bafc5ae10>],\n",
              " 'caps': [<matplotlib.lines.Line2D at 0x7f9bafbf8550>,\n",
              "  <matplotlib.lines.Line2D at 0x7f9bafbf8a90>],\n",
              " 'fliers': [<matplotlib.lines.Line2D at 0x7f9bafbff590>],\n",
              " 'means': [],\n",
              " 'medians': [<matplotlib.lines.Line2D at 0x7f9bafbf8fd0>],\n",
              " 'whiskers': [<matplotlib.lines.Line2D at 0x7f9bafbf3a10>,\n",
              "  <matplotlib.lines.Line2D at 0x7f9bafbf3fd0>]}"
            ]
          },
          "metadata": {},
          "execution_count": 33
        },
        {
          "output_type": "display_data",
          "data": {
            "text/plain": [
              "<Figure size 432x288 with 1 Axes>"
            ],
            "image/png": "[encoded data removed]"
          },
          "metadata": {
            "needs_background": "light"
          }
        }
      ]
    },
    {
      "cell_type": "code",
      "source": [
        "red_square = dict(markerfacecolor = \"r\", marker = \"s\") \n",
        "fig5, ax5 = plt.subplots()\n",
        "ax5.set_title(\"Boxplot personalizado y en horizontal\")\n",
        "ax5.boxplot(data, vert = False, flierprops = red_square, whis = 0.5) # reducir el tamaño de los bigotes de 1.5 a 0.75"
      ],
      "metadata": {
        "colab": {
          "base_uri": "https://localhost:8080/",
          "height": 420
        },
        "id": "wYSGEfxWNy6U",
        "outputId": "56e9590a-ea39-41a3-bebb-f6d03462c6dc"
      },
      "execution_count": 34,
      "outputs": [
        {
          "output_type": "execute_result",
          "data": {
            "text/plain": [
              "{'boxes': [<matplotlib.lines.Line2D at 0x7f9bafbcbe10>],\n",
              " 'caps': [<matplotlib.lines.Line2D at 0x7f9bafb69710>,\n",
              "  <matplotlib.lines.Line2D at 0x7f9bafb69c50>],\n",
              " 'fliers': [<matplotlib.lines.Line2D at 0x7f9bafb6f750>],\n",
              " 'means': [],\n",
              " 'medians': [<matplotlib.lines.Line2D at 0x7f9bafb6f1d0>],\n",
              " 'whiskers': [<matplotlib.lines.Line2D at 0x7f9bafb63bd0>,\n",
              "  <matplotlib.lines.Line2D at 0x7f9bafb691d0>]}"
            ]
          },
          "metadata": {},
          "execution_count": 34
        },
        {
          "output_type": "display_data",
          "data": {
            "text/plain": [
              "<Figure size 432x288 with 1 Axes>"
            ],
            "image/png": "[encoded data removed]"
          },
          "metadata": {
            "needs_background": "light"
          }
        }
      ]
    },
    {
      "cell_type": "code",
      "source": [
        "dist1 = 100*np.random.rand(50) # números al azar entre 0 a 100\n",
        "dist2 = 40*np.ones(25) # lista de 25 veces el número 40\n",
        "dist3 = 100 + 100 * np.random.rand(10) # al azar del 100 al 200\n",
        "dist4 = -100 * np.random.rand(10) # al azar entre -100 al 0\n",
        "data2 = np.concatenate((dist1, dist2, dist3, dist4))"
      ],
      "metadata": {
        "id": "KPo0ZRTAN5l1"
      },
      "execution_count": 35,
      "outputs": []
    },
    {
      "cell_type": "code",
      "source": [
        "data.shape = (-1,1)\n",
        "data2.shape = (-1,1)"
      ],
      "metadata": {
        "id": "aEbRR-KATde2"
      },
      "execution_count": 38,
      "outputs": []
    },
    {
      "cell_type": "code",
      "source": [
        "fulldata = [data, data2, data2[::2, 0]]"
      ],
      "metadata": {
        "id": "8LRPGa5STjG0"
      },
      "execution_count": 39,
      "outputs": []
    },
    {
      "cell_type": "code",
      "source": [
        "fig6, ax6 = plt.subplots()\n",
        "ax6.set_title(\"Múltiples muestras de diferente naturaleza\")\n",
        "ax6.boxplot(fulldata)\n",
        "plt.show()"
      ],
      "metadata": {
        "colab": {
          "base_uri": "https://localhost:8080/",
          "height": 336
        },
        "id": "XJL7hOKsToKU",
        "outputId": "ec13884c-d321-4b8e-f61d-881608c2c7d4"
      },
      "execution_count": 41,
      "outputs": [
        {
          "output_type": "stream",
          "name": "stderr",
          "text": [
            "/usr/local/lib/python3.7/dist-packages/matplotlib/cbook/__init__.py:1376: VisibleDeprecationWarning: Creating an ndarray from ragged nested sequences (which is a list-or-tuple of lists-or-tuples-or ndarrays with different lengths or shapes) is deprecated. If you meant to do this, you must specify 'dtype=object' when creating the ndarray.\n",
            "  X = np.atleast_1d(X.T if isinstance(X, np.ndarray) else np.asarray(X))\n"
          ]
        },
        {
          "output_type": "display_data",
          "data": {
            "text/plain": [
              "<Figure size 432x288 with 1 Axes>"
            ],
            "image/png": "[encoded data removed]"
          },
          "metadata": {
            "needs_background": "light"
          }
        }
      ]
    },
    {
      "cell_type": "code",
      "source": [
        ""
      ],
      "metadata": {
        "id": "nKDcuAP-VMaM"
      },
      "execution_count": null,
      "outputs": []
    }
  ]
}