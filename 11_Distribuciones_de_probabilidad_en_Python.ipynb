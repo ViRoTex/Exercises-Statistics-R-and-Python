{
  "nbformat": 4,
  "nbformat_minor": 0,
  "metadata": {
    "colab": {
      "provenance": [],
      "authorship_tag": "ABX9TyMSBsHv/9LI658ErJpYMoHB",
      "include_colab_link": true
    },
    "kernelspec": {
      "name": "python3",
      "display_name": "Python 3"
    },
    "language_info": {
      "name": "python"
    }
  },
  "cells": [
    {
      "cell_type": "markdown",
      "metadata": {
        "id": "view-in-github",
        "colab_type": "text"
      },
      "source": [
        "<a href=\"https://colab.research.google.com/github/ViRoTex/Exercises-Statistics-R-and-Python/blob/main/11_Distribuciones_de_probabilidad_en_Python.ipynb\" target=\"_parent\"><img src=\"https://colab.research.google.com/assets/colab-badge.svg\" alt=\"Open In Colab\"/></a>"
      ]
    },
    {
      "cell_type": "markdown",
      "source": [
        "# Distribución Bernoulli"
      ],
      "metadata": {
        "id": "_ZQdTQTG7M12"
      }
    },
    {
      "cell_type": "code",
      "execution_count": null,
      "metadata": {
        "id": "sDVnLyLX7HgI"
      },
      "outputs": [],
      "source": [
        "from scipy.stats import bernoulli\n",
        "import matplotlib.pyplot as plt"
      ]
    },
    {
      "cell_type": "code",
      "source": [
        "p = 0.7\n",
        "mean, var, skew, kurt = bernoulli.stats(p, moments = 'mvsk')\n",
        "print(\"Media %f\"%mean)\n",
        "print(\"Varianza %f\"%var)\n",
        "print(\"Sesgo %f\"%skew)\n",
        "print(\"Curtosis %f\"%kurt)\n",
        "\n",
        "fix, ax = plt.subplots(1,1)\n",
        "x = bernoulli.rvs(p, size = 1000)\n",
        "ax.hist(x)\n",
        "plt.show()"
      ],
      "metadata": {
        "colab": {
          "base_uri": "https://localhost:8080/",
          "height": 334
        },
        "id": "L1NNX6yE7Wp0",
        "outputId": "2c6660e8-24f0-4a22-d284-aabc6aacee8c"
      },
      "execution_count": null,
      "outputs": [
        {
          "output_type": "stream",
          "name": "stdout",
          "text": [
            "Media 0.700000\n",
            "Varianza 0.210000\n",
            "Sesgo -0.872872\n",
            "Curtosis -1.238095\n"
          ]
        },
        {
          "output_type": "display_data",
          "data": {
            "text/plain": [
              "<Figure size 432x288 with 1 Axes>"
            ],
            "image/png": "[encoded data removed]"
          },
          "metadata": {
            "needs_background": "light"
          }
        }
      ]
    },
    {
      "cell_type": "markdown",
      "source": [
        "# Distribución Binomial"
      ],
      "metadata": {
        "id": "msju7jrI8fmS"
      }
    },
    {
      "cell_type": "code",
      "source": [
        "from scipy.stats import binom\n",
        "import matplotlib.pyplot as plt\n",
        "import numpy as np"
      ],
      "metadata": {
        "id": "n2fdTZy68iWF"
      },
      "execution_count": null,
      "outputs": []
    },
    {
      "cell_type": "code",
      "source": [
        "fig, ax = plt.subplots(1,1)\n",
        "n = 7 # veces del experimento, 7\n",
        "p = 0.4\n",
        "\n",
        "mean, var, skew, kurt = binom.stats(n, p , moments = 'mvsk')\n",
        "print(\"Media %f\"%mean)\n",
        "print(\"Varianza %f\"%var)\n",
        "print(\"Sesgo %f\"%skew)\n",
        "print(\"Curtosis %f\"%kurt)\n",
        "x = np.arange(binom.ppf(0.01, n, p), binom.ppf(0.9999, n, p))\n",
        "ax.plot(x, binom.pmf(x,n,p), 'bo', ms = 8, label = \"Función de densidad de B(7,0,4)\")\n",
        "ax.vlines(x, 0, binom.pmf(x,n,p), colors = 'b', lw = 4, alpha = 0.5)\n",
        "plt.show()"
      ],
      "metadata": {
        "colab": {
          "base_uri": "https://localhost:8080/",
          "height": 335
        },
        "id": "PQvrasFHMguc",
        "outputId": "2df64767-4837-466f-e0dc-38ae40fbd18d"
      },
      "execution_count": null,
      "outputs": [
        {
          "output_type": "stream",
          "name": "stdout",
          "text": [
            "Media 2.800000\n",
            "Varianza 1.680000\n",
            "Sesgo 0.154303\n",
            "Curtosis -0.261905\n"
          ]
        },
        {
          "output_type": "display_data",
          "data": {
            "text/plain": [
              "<Figure size 432x288 with 1 Axes>"
            ],
            "image/png": "[encoded data removed]"
          },
          "metadata": {
            "needs_background": "light"
          }
        }
      ]
    },
    {
      "cell_type": "code",
      "source": [
        "# en el caso de saber que vamos a llegar a n = 7 éxitos podríamos haber puesto en su lugar x= np.arange(0,n), en este caso, no aparece el 7 del gráfico,\n",
        "# tendríamos que poner x = np.arange(0, n+1)\n",
        "fig, ax = plt.subplots(1,1)\n",
        "n = 7 # veces del experimento, 7\n",
        "p = 0.4\n",
        "\n",
        "mean, var, skew, kurt = binom.stats(n, p , moments = 'mvsk')\n",
        "print(\"Media %f\"%mean)\n",
        "print(\"Varianza %f\"%var)\n",
        "print(\"Sesgo %f\"%skew)\n",
        "print(\"Curtosis %f\"%kurt)\n",
        "x = np.arange(0,n+1)\n",
        "ax.plot(x, binom.pmf(x,n,p), 'bo', ms = 8, label = \"Función de densidad de B(7,0,4)\")\n",
        "ax.vlines(x, 0, binom.pmf(x,n,p), colors = 'b', lw = 4, alpha = 0.5)\n",
        "plt.show()"
      ],
      "metadata": {
        "colab": {
          "base_uri": "https://localhost:8080/",
          "height": 335
        },
        "id": "qB6SsumLOHQK",
        "outputId": "21303d7d-39b2-47ed-f048-14f8e331f823"
      },
      "execution_count": null,
      "outputs": [
        {
          "output_type": "stream",
          "name": "stdout",
          "text": [
            "Media 2.800000\n",
            "Varianza 1.680000\n",
            "Sesgo 0.154303\n",
            "Curtosis -0.261905\n"
          ]
        },
        {
          "output_type": "display_data",
          "data": {
            "text/plain": [
              "<Figure size 432x288 with 1 Axes>"
            ],
            "image/png": "[encoded data removed]"
          },
          "metadata": {
            "needs_background": "light"
          }
        }
      ]
    },
    {
      "cell_type": "code",
      "source": [
        "# alternativamente también se pueden usar diferentes modos para realizar la distribución. por ejemplo. se podría poner otra rayita vertical con rv\n",
        "fig, ax = plt.subplots(1,1)\n",
        "n = 7 # veces del experimento, 7\n",
        "p = 0.4\n",
        "\n",
        "mean, var, skew, kurt = binom.stats(n, p , moments = 'mvsk')\n",
        "print(\"Media %f\"%mean)\n",
        "print(\"Varianza %f\"%var)\n",
        "print(\"Sesgo %f\"%skew)\n",
        "print(\"Curtosis %f\"%kurt)\n",
        "x = np.arange(0,n+1)\n",
        "ax.plot(x, binom.pmf(x,n,p), 'bo', ms = 8, label = \"Función de densidad de B(7,0,4)\")\n",
        "ax.vlines(x, 0, binom.pmf(x,n,p), colors = 'b', lw = 4, alpha = 0.5)\n",
        "\n",
        "rv = binom(n,p)\n",
        "ax.vlines(x, 0, rv.pmf(x), colors = 'k', linestyles = '--', lw = 1, label = \"Distribución teórica\")\n",
        "\n",
        "plt.show()\n"
      ],
      "metadata": {
        "id": "K1qPHEOHOUt7",
        "colab": {
          "base_uri": "https://localhost:8080/",
          "height": 335
        },
        "outputId": "a3088e42-b97d-4794-fe1b-9223979ec4a5"
      },
      "execution_count": null,
      "outputs": [
        {
          "output_type": "stream",
          "name": "stdout",
          "text": [
            "Media 2.800000\n",
            "Varianza 1.680000\n",
            "Sesgo 0.154303\n",
            "Curtosis -0.261905\n"
          ]
        },
        {
          "output_type": "display_data",
          "data": {
            "text/plain": [
              "<Figure size 432x288 with 1 Axes>"
            ],
            "image/png": "[encoded data removed]"
          },
          "metadata": {
            "needs_background": "light"
          }
        }
      ]
    },
    {
      "cell_type": "code",
      "source": [
        "# si queremos comprobar la función de distribución acumulada y generar valores aleatorios usaremos cdf (cumulative density functions)\n",
        "fig, ax = plt.subplots(1,1)\n",
        "n = 7 # veces del experimento, 7\n",
        "p = 0.4\n",
        "\n",
        "mean, var, skew, kurt = binom.stats(n, p , moments = 'mvsk')\n",
        "print(\"Media %f\"%mean)\n",
        "print(\"Varianza %f\"%var)\n",
        "print(\"Sesgo %f\"%skew)\n",
        "print(\"Curtosis %f\"%kurt)\n",
        "x = np.arange(0,n+1)\n",
        "ax.plot(x, binom.cdf(x,n,p), 'bo', ms = 8, label = \"Función de distribución acumulada\")\n",
        "ax.vlines(x, 0, binom.cdf(x,n,p), colors = 'b', lw = 4, alpha = 0.5)\n",
        "\n",
        "rv = binom(n,p)\n",
        "ax.vlines(x, 0, rv.cdf(x), colors = 'k', linestyles = '--', lw = 1, label = \"Distribución teórica acumulada\")\n",
        "\n",
        "# para generar una serie de valores aleatorios con rvs (random value generator)\n",
        "\n",
        "fix, ax = plt.subplots(1,1)\n",
        "r = binom.rvs(n,p, size = 10000)\n",
        "ax.hist(r, bins= n)\n",
        "\n",
        "\n",
        "plt.show()\n"
      ],
      "metadata": {
        "colab": {
          "base_uri": "https://localhost:8080/",
          "height": 582
        },
        "id": "nQXlWmEnrabL",
        "outputId": "c04519ad-2af8-46d4-dd30-3cb51aaa638a"
      },
      "execution_count": null,
      "outputs": [
        {
          "output_type": "stream",
          "name": "stdout",
          "text": [
            "Media 2.800000\n",
            "Varianza 1.680000\n",
            "Sesgo 0.154303\n",
            "Curtosis -0.261905\n"
          ]
        },
        {
          "output_type": "display_data",
          "data": {
            "text/plain": [
              "<Figure size 432x288 with 1 Axes>"
            ],
            "image/png": "[encoded data removed]"
          },
          "metadata": {
            "needs_background": "light"
          }
        },
        {
          "output_type": "display_data",
          "data": {
            "text/plain": [
              "<Figure size 432x288 with 1 Axes>"
            ],
            "image/png": "[encoded data removed]"
          },
          "metadata": {
            "needs_background": "light"
          }
        }
      ]
    },
    {
      "cell_type": "markdown",
      "source": [
        "## Distribución geométrica"
      ],
      "metadata": {
        "id": "pB6QyPtvWo5c"
      }
    },
    {
      "cell_type": "code",
      "source": [
        "from scipy.stats import geom\n",
        "import matplotlib.pyplot as plt\n",
        "import numpy as np"
      ],
      "metadata": {
        "id": "l7S9EZdRWsZW"
      },
      "execution_count": null,
      "outputs": []
    },
    {
      "cell_type": "code",
      "source": [
        "fig, ax = plt.subplots(1,1)\n",
        "p = 0.3\n",
        "mean, var, skew, kurt = geom.stats(p, moments = 'mvsk')\n",
        "print(\"Media %f\"%mean)\n",
        "print(\"Varianza %f\"%var)\n",
        "print(\"Sesgo %f\"%skew)\n",
        "print(\"Curtosis %f\"%kurt)\n",
        "\n",
        "x = np.arange(geom.ppf(0.01, p), geom.ppf(0.99, p))\n",
        "\n",
        "# también se podrían haber puesto x = np.arange(0,1000), hasta 1000 o el número que queramos poner \n",
        "\n",
        "ax.plot(x,geom.pmf(x, p), 'bo', ms = 8, label = \"Función de probabilidad de Geom(0.3)\")\n",
        "ax.vlines(x, 0, geom.pmf(x, p), colors = 'b', lw = 4, alpha = 0.5)\n",
        "\n",
        "# si queremos añadir alternativamente la distribución para ajustarse con la función frozen \n",
        "# en la que invoca a la generación de la distribución \n",
        "rv = geom(p)\n",
        "ax.vlines(x, 0, rv.pmf(x), colors = 'k', linestyles = '--', lw = 1, label = \"Frozen PMF\")\n",
        "ax.legend(loc = 'best')\n",
        "plt.show()\n",
        "\n",
        "\n",
        "# para ver la distribución acumulada, en lugar de la que hemos visto,\n",
        "# para observar la diferencia entre el antes y el después, tendremos que poner:\n",
        "fig, ax = plt.subplots(1,1)\n",
        "prob = geom.cdf(x,p)\n",
        "\n",
        "ax.plot(x,prob, 'bo', ms = 8, label = \"Función de distribución acumulada\")\n",
        "plt.show()\n",
        "\n",
        "\n",
        "# para crear valores aleatorios y su correspondiente histograma\n",
        "\n",
        "fig, ax = plt.subplots(1,1)\n",
        "r = geom.rvs(p, size = 10000)\n",
        "plt.hist(r)\n",
        "plt.show()"
      ],
      "metadata": {
        "colab": {
          "base_uri": "https://localhost:8080/",
          "height": 830
        },
        "id": "msqeQ3-8Yf47",
        "outputId": "6fac7ac8-f5c9-4dde-bd8b-6929ffc674de"
      },
      "execution_count": null,
      "outputs": [
        {
          "output_type": "stream",
          "name": "stdout",
          "text": [
            "Media 3.333333\n",
            "Varianza 7.777778\n",
            "Sesgo 2.031889\n",
            "Curtosis 6.128571\n"
          ]
        },
        {
          "output_type": "display_data",
          "data": {
            "text/plain": [
              "<Figure size 432x288 with 1 Axes>"
            ],
            "image/png": "[encoded data removed]"
          },
          "metadata": {
            "needs_background": "light"
          }
        },
        {
          "output_type": "display_data",
          "data": {
            "text/plain": [
              "<Figure size 432x288 with 1 Axes>"
            ],
            "image/png": "[encoded data removed]"
          },
          "metadata": {
            "needs_background": "light"
          }
        },
        {
          "output_type": "display_data",
          "data": {
            "text/plain": [
              "<Figure size 432x288 with 1 Axes>"
            ],
            "image/png": "[encoded data removed]"
          },
          "metadata": {
            "needs_background": "light"
          }
        }
      ]
    },
    {
      "cell_type": "markdown",
      "source": [
        "# Distribución Hipergeométrica"
      ],
      "metadata": {
        "id": "jJnhuChSa3Xz"
      }
    },
    {
      "cell_type": "code",
      "source": [
        "from scipy.stats import hypergeom\n",
        "import matplotlib.pyplot as plt\n",
        "import numpy as np"
      ],
      "metadata": {
        "id": "VNaay9MDa6Q4"
      },
      "execution_count": 3,
      "outputs": []
    },
    {
      "cell_type": "code",
      "source": [
        "[M, n, N] = [20,7,12]\n",
        "rv = hypergeom(M,n,N)\n",
        "x = np.arange(1, n+1)\n",
        "y = rv.pmf(x)\n",
        "\n",
        "mean, var, skew, kurt = rv.stats(moments = 'mvsk')\n",
        "print(\"Media %f\"%mean)\n",
        "print(\"Varianza %f\"%var)\n",
        "print(\"Sesgo %f\"%skew)\n",
        "print(\"Curtosis %f\"%kurt)\n",
        "\n",
        "fig = plt.figure()\n",
        "ax = fig.add_subplot(111)\n",
        "ax.plot(x, y, 'bo')\n",
        "ax.vlines(x, 0, y, lw = 2, alpha = 0.5)\n",
        "ax.set_xlabel(\"Número de perros entre los 12 elegidos al azar\")\n",
        "ax.set_ylabel(\"Distribución de probabilidad de H(13,7,12\")\n",
        "plt.show()"
      ],
      "metadata": {
        "colab": {
          "base_uri": "https://localhost:8080/",
          "height": 349
        },
        "id": "KcoYR_apc9lV",
        "outputId": "a1eee63a-9913-4ecd-c0dc-4957b04c2523"
      },
      "execution_count": 6,
      "outputs": [
        {
          "output_type": "stream",
          "name": "stdout",
          "text": [
            "Media 4.200000\n",
            "Varianza 1.149474\n",
            "Sesgo -0.062181\n",
            "Curtosis -0.152661\n"
          ]
        },
        {
          "output_type": "display_data",
          "data": {
            "text/plain": [
              "<Figure size 432x288 with 1 Axes>"
            ],
            "image/png": "[encoded data removed]"
          },
          "metadata": {
            "needs_background": "light"
          }
        }
      ]
    },
    {
      "cell_type": "code",
      "source": [
        "[M, n, N] = [20,7,6]\n",
        "rv = hypergeom(M,n,N)\n",
        "x = np.arange(1, n+1)\n",
        "y = rv.pmf(x)\n",
        "\n",
        "mean, var, skew, kurt = rv.stats(moments = 'mvsk')\n",
        "print(\"Media %f\"%mean)\n",
        "print(\"Varianza %f\"%var)\n",
        "print(\"Sesgo %f\"%skew)\n",
        "print(\"Curtosis %f\"%kurt)\n",
        "\n",
        "fig = plt.figure()\n",
        "ax = fig.add_subplot(111)\n",
        "ax.plot(x, y, 'bo')\n",
        "ax.vlines(x, 0, y, lw = 2, alpha = 0.5)\n",
        "ax.set_xlabel(\"Número de perros entre los 12 elegidos al azar\")\n",
        "ax.set_ylabel(\"Distribución de probabilidad de H(13,7,12\")\n",
        "plt.show()"
      ],
      "metadata": {
        "colab": {
          "base_uri": "https://localhost:8080/",
          "height": 349
        },
        "id": "o28lrjdtdope",
        "outputId": "a0ba3da3-b223-43b1-a814-d549e8e22baf"
      },
      "execution_count": 7,
      "outputs": [
        {
          "output_type": "stream",
          "name": "stdout",
          "text": [
            "Media 2.100000\n",
            "Varianza 1.005789\n",
            "Sesgo 0.132949\n",
            "Curtosis -0.203835\n"
          ]
        },
        {
          "output_type": "display_data",
          "data": {
            "text/plain": [
              "<Figure size 432x288 with 1 Axes>"
            ],
            "image/png": "[encoded data removed]"
          },
          "metadata": {
            "needs_background": "light"
          }
        }
      ]
    },
    {
      "cell_type": "markdown",
      "source": [
        "# Distribución de Poisson"
      ],
      "metadata": {
        "id": "1x2vCkTxhXsC"
      }
    },
    {
      "cell_type": "code",
      "source": [],
      "metadata": {
        "id": "KU6Fq-sqhavT"
      },
      "execution_count": null,
      "outputs": []
    }
  ]
}